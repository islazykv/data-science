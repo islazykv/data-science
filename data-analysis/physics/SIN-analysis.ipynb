{
 "cells": [
  {
   "cell_type": "markdown",
   "metadata": {},
   "source": [
    "# Signal Induced Noise Analysis"
   ]
  },
  {
   "cell_type": "markdown",
   "metadata": {},
   "source": [
    "### Introduction\n",
    "<p style='text-align: justify'>\n",
    "The Signal Induced Noise (SIN) measurement is used to quantify the constitution of after-pulses with respect to a true signal. After calculating the integrated signal and the integrated SIN, the SIN Fraction can be calculated using the following formula:\n",
    "$$SIN_{fraction}=\\frac{noise}{signal+noise}$$\n",
    "together with the Signal to Noise (S/N) ratio:\n",
    "$$SN_{ratio} =\\frac{signal}{noise}$$\n",
    "Both parameters provide an information of the intensity of the SIN to the signal.\n",
    "</p>"
   ]
  },
  {
   "cell_type": "code",
   "execution_count": null,
   "metadata": {},
   "outputs": [],
   "source": []
  },
  {
   "cell_type": "code",
   "execution_count": null,
   "metadata": {},
   "outputs": [],
   "source": []
  }
 ],
 "metadata": {
  "kernelspec": {
   "display_name": "Python 3",
   "language": "python",
   "name": "python3"
  },
  "language_info": {
   "codemirror_mode": {
    "name": "ipython",
    "version": 3
   },
   "file_extension": ".py",
   "mimetype": "text/x-python",
   "name": "python",
   "nbconvert_exporter": "python",
   "pygments_lexer": "ipython3",
   "version": "3.9.1"
  }
 },
 "nbformat": 4,
 "nbformat_minor": 2
}
