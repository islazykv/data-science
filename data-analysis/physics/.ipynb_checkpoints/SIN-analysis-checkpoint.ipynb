{
 "cells": [
  {
   "cell_type": "markdown",
   "metadata": {},
   "source": [
    "# Signal Induced Noise Analysis"
   ]
  },
  {
   "cell_type": "markdown",
   "metadata": {},
   "source": [
    "### Introduction\n",
    "<p style='text-align: justify'>\n",
    "The Signal Induced Noise (SIN) measurement is used to quantify the constitution of after-pulses with respect to a true signal. After calculating the integrated signal and the integrated SIN, the SIN Fraction can be calculated using the following formula:\n",
    "$$SIN_{fraction}=\\frac{noise}{signal+noise}$$\n",
    "together with the Signal to Noise (S/N) ratio:\n",
    "$$SN_{ratio} =\\frac{signal}{noise}$$\n",
    "Both parameters provide an information of the intensity of the SIN to the signal.\n",
    "</p>"
   ]
  },
  {
   "cell_type": "markdown",
   "metadata": {},
   "source": [
    "### Procedure\n",
    "1. Extract data"
   ]
  },
  {
   "cell_type": "markdown",
   "metadata": {},
   "source": [
    "### Libraries\n",
    "Numpy, pandas, matplotlib and seaborn."
   ]
  },
  {
   "cell_type": "code",
   "execution_count": 23,
   "metadata": {},
   "outputs": [],
   "source": [
    "import numpy as np\n",
    "import pandas as pd\n",
    "\n",
    "import matplotlib.pyplot as plt\n",
    "from matplotlib.colors import ListedColormap\n",
    "from matplotlib.backends.backend_pdf import PdfPages\n",
    "%matplotlib inline\n",
    "\n",
    "import seaborn as sns"
   ]
  },
  {
   "cell_type": "markdown",
   "metadata": {},
   "source": [
    "### Mapping\n",
    "Extraction of mapping schemes for Elementary Cell (EC) of R-Type and H-Type."
   ]
  },
  {
   "cell_type": "code",
   "execution_count": 24,
   "metadata": {},
   "outputs": [],
   "source": [
    "ECs_df = pd.DataFrame()"
   ]
  },
  {
   "cell_type": "code",
   "execution_count": 25,
   "metadata": {},
   "outputs": [],
   "source": [
    "def Mapping(ectype):\n",
    "    \n",
    "    map_IDs = []\n",
    "    map_ECs = []\n",
    "    map_PMTs = []\n",
    "    map_anodes = []\n",
    "    \n",
    "    if ectype == 'R':\n",
    "        with open('mapping\\R_Map.txt') as file:\n",
    "            map_data = file.readlines()[1:]\n",
    "    elif ectype == \"H\":\n",
    "        with open('mapping/H_Map.txt') as file:\n",
    "            map_data = file.readlines()[1:]\n",
    "    else:\n",
    "        raise ValueError('Wrong Type of Elementary Cell.')\n",
    "\n",
    "    for i in range(0, len(map_data)):\n",
    "        map_channel = map_data[i].split(' ')\n",
    "\n",
    "        map_ID = ' '.join(map_channel[0:4])\n",
    "        map_IDs.append(map_ID)\n",
    "\n",
    "        map_EC = int(map_channel[4])\n",
    "        map_ECs.append(map_EC)\n",
    "\n",
    "        if ectype == 'R':\n",
    "            map_PMT = map_channel[5]\n",
    "            map_PMTs.append(map_PMT)\n",
    "            \n",
    "            map_anode = int(map_channel[6])\n",
    "            map_anodes.append(map_anode)\n",
    "        elif ectype == 'H':\n",
    "            map_anode = int(map_channel[5])\n",
    "            map_anodes.append(map_anode)\n",
    "\n",
    "    map_IDs = np.array(map_IDs)\n",
    "    map_ECs = np.array(map_ECs)\n",
    "    if ectype == 'R':\n",
    "        map_PMTs = np.array(map_PMTs)\n",
    "    map_anodes = np.array(map_anodes)\n",
    "\n",
    "    ECs_df['ID'] = map_IDs\n",
    "    ECs_df['EC'] = map_ECs\n",
    "    if ectype == 'R':\n",
    "        ECs_df['PMT'] = map_PMTs\n",
    "    ECs_df['Anode'] = map_anodes"
   ]
  },
  {
   "cell_type": "code",
   "execution_count": 26,
   "metadata": {},
   "outputs": [
    {
     "ename": "FileNotFoundError",
     "evalue": "[Errno 2] No such file or directory: 'mapping/R_Map.txt'",
     "output_type": "error",
     "traceback": [
      "\u001b[1;31m---------------------------------------------------------------------------\u001b[0m",
      "\u001b[1;31mFileNotFoundError\u001b[0m                         Traceback (most recent call last)",
      "\u001b[1;32m<ipython-input-26-56ade5a8912f>\u001b[0m in \u001b[0;36m<module>\u001b[1;34m\u001b[0m\n\u001b[1;32m----> 1\u001b[1;33m \u001b[0mMapping\u001b[0m\u001b[1;33m(\u001b[0m\u001b[1;34m\"R\"\u001b[0m\u001b[1;33m)\u001b[0m\u001b[1;33m\u001b[0m\u001b[1;33m\u001b[0m\u001b[0m\n\u001b[0m",
      "\u001b[1;32m<ipython-input-25-435c3ef9df0a>\u001b[0m in \u001b[0;36mMapping\u001b[1;34m(ectype)\u001b[0m\n\u001b[0;32m      7\u001b[0m \u001b[1;33m\u001b[0m\u001b[0m\n\u001b[0;32m      8\u001b[0m     \u001b[1;32mif\u001b[0m \u001b[0mectype\u001b[0m \u001b[1;33m==\u001b[0m \u001b[1;34m'R'\u001b[0m\u001b[1;33m:\u001b[0m\u001b[1;33m\u001b[0m\u001b[1;33m\u001b[0m\u001b[0m\n\u001b[1;32m----> 9\u001b[1;33m         \u001b[1;32mwith\u001b[0m \u001b[0mopen\u001b[0m\u001b[1;33m(\u001b[0m\u001b[1;34m'mapping/R_Map.txt'\u001b[0m\u001b[1;33m)\u001b[0m \u001b[1;32mas\u001b[0m \u001b[0mfile\u001b[0m\u001b[1;33m:\u001b[0m\u001b[1;33m\u001b[0m\u001b[1;33m\u001b[0m\u001b[0m\n\u001b[0m\u001b[0;32m     10\u001b[0m             \u001b[0mmap_data\u001b[0m \u001b[1;33m=\u001b[0m \u001b[0mfile\u001b[0m\u001b[1;33m.\u001b[0m\u001b[0mreadlines\u001b[0m\u001b[1;33m(\u001b[0m\u001b[1;33m)\u001b[0m\u001b[1;33m[\u001b[0m\u001b[1;36m1\u001b[0m\u001b[1;33m:\u001b[0m\u001b[1;33m]\u001b[0m\u001b[1;33m\u001b[0m\u001b[1;33m\u001b[0m\u001b[0m\n\u001b[0;32m     11\u001b[0m     \u001b[1;32melif\u001b[0m \u001b[0mectype\u001b[0m \u001b[1;33m==\u001b[0m \u001b[1;34m\"H\"\u001b[0m\u001b[1;33m:\u001b[0m\u001b[1;33m\u001b[0m\u001b[1;33m\u001b[0m\u001b[0m\n",
      "\u001b[1;31mFileNotFoundError\u001b[0m: [Errno 2] No such file or directory: 'mapping/R_Map.txt'"
     ]
    }
   ],
   "source": [
    "Mapping(\"R\")"
   ]
  },
  {
   "cell_type": "code",
   "execution_count": null,
   "metadata": {},
   "outputs": [],
   "source": []
  }
 ],
 "metadata": {
  "kernelspec": {
   "display_name": "Python 3",
   "language": "python",
   "name": "python3"
  },
  "language_info": {
   "codemirror_mode": {
    "name": "ipython",
    "version": 3
   },
   "file_extension": ".py",
   "mimetype": "text/x-python",
   "name": "python",
   "nbconvert_exporter": "python",
   "pygments_lexer": "ipython3",
   "version": "3.9.1"
  }
 },
 "nbformat": 4,
 "nbformat_minor": 2
}
