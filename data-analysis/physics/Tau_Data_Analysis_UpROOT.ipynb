{
 "cells": [
  {
   "cell_type": "markdown",
   "metadata": {},
   "source": [
    "# Tau Data Analysis - UpROOT"
   ]
  },
  {
   "cell_type": "code",
   "execution_count": 1,
   "metadata": {},
   "outputs": [],
   "source": [
    "import uproot as ur\n",
    "\n",
    "import numpy as np\n",
    "import awkward as ak\n",
    "import pandas as pd\n",
    "\n",
    "import matplotlib.pyplot as plt\n",
    "import seaborn as sns\n",
    "\n",
    "%matplotlib inline"
   ]
  },
  {
   "cell_type": "code",
   "execution_count": 2,
   "metadata": {},
   "outputs": [],
   "source": [
    "import atlas_mpl_style as ampl\n",
    "ampl.use_atlas_style()"
   ]
  },
  {
   "cell_type": "code",
   "execution_count": 3,
   "metadata": {},
   "outputs": [],
   "source": [
    "analysis_base_21_2_201 = \"21.2.201\"\n",
    "analysis_base_22_2_59 = \"22.2.59\"\n",
    "analysis_base_22_2_60 = \"22.2.60\"\n",
    "daod_MC16 = \"MC16\"\n",
    "daod_MC20 = \"MC20\""
   ]
  },
  {
   "cell_type": "code",
   "execution_count": 4,
   "metadata": {},
   "outputs": [],
   "source": [
    "iters = [\"e\"]"
   ]
  },
  {
   "cell_type": "code",
   "execution_count": 5,
   "metadata": {},
   "outputs": [],
   "source": [
    "bgks = [\"data\", \"ttbar\", \"wtaunu\", \"wmunu\", \"wenu\", \"ztautau\", \"zmumu\", \"zee\",\"znunu\", \"diboson\"]\n",
    "# bgks = [\"diboson\", \"znunu\", \"zee\", \"zmumu\", \"ztautau\", \"wenu\", \"wmunu\", \"wtaunu\",\"ttbar\", \"data\"]\n",
    "# bgks = [\"data\", \"ttbar\", 'wtaunu']"
   ]
  },
  {
   "cell_type": "code",
   "execution_count": 6,
   "metadata": {},
   "outputs": [],
   "source": [
    "data_dictionary = {}\n",
    "histograms_dictionary = {}\n",
    "\n",
    "for i,background in enumerate(bgks):\n",
    "    for j, iteration in enumerate(iters):\n",
    "        path = f\"/disk/atlas3/data_MC/{analysis_base_22_2_59}/PHYS/{daod_MC20}{iteration}/vector_XEplateau/{background}.root\"\n",
    "        tree = ur.open(path)['NOMINAL']\n",
    "\n",
    "        ar = tree.arrays(library='ak')\n",
    "\n",
    "        ar = ar[ar.eventClean != 0]\n",
    "        ar = ar[ar.isBadTile == 0]\n",
    "        ar = ar[ar.jet_n >= 3]\n",
    "        ar = ar[ar.jet_pt[:, 0]/1000 >= 120]\n",
    "        ar = ar[ar.jet_isBadTight[:, 0] != True]\n",
    "        ar = ar[ar.jet_pt[:, 1]/1000 >= 25]\n",
    "        ar = ar[ar.IsMETTrigPassed != 0]\n",
    "        ar = ar[ar.met/1000 >= 180]\n",
    "        ar = ar[ak.all(ar.mu_pt/1000 < 25, axis=1)]\n",
    "        ar = ar[ar.tau_n == 1]\n",
    "        ar = ar[ar.tau_JetRNNMedium[:, 0] != 0]\n",
    "        ar = ar[ar.jet_delPhiMet[:, 0] >= 0.4]\n",
    "        ar = ar[ar.jet_delPhiMet[:, 1] >= 0.4]\n",
    "        ar = ar[ar.ht/1000 <= 800]\n",
    "        ar = ar[ar.met/1000 <= 300]\n",
    "        ar = ar[ar.tau_mtMet[:, 0]/1000 <= 80]\n",
    "\n",
    "        ar['weight'] = ar.lumiweight*ar.mcEventWeight*ar.pileupweight*ar.beamSpotWeight*ar.jvt_weight*ar.bjet_weight*ar.tau_medium_weight*ar.ele_weight*ar.mu_weight\n",
    "\n",
    "    if background == \"data\":\n",
    "        data_dictionary[background] = ar\n",
    "    else:\n",
    "        histograms_dictionary[background] = ar"
   ]
  },
  {
   "cell_type": "code",
   "execution_count": 7,
   "metadata": {},
   "outputs": [],
   "source": [
    "MC_full = ak.concatenate([histograms_dictionary[x] for x in histograms_dictionary], axis=0)"
   ]
  },
  {
   "cell_type": "code",
   "execution_count": 8,
   "metadata": {},
   "outputs": [
    {
     "data": {
      "text/plain": [
       "(0.0, 60000.0)"
      ]
     },
     "execution_count": 8,
     "metadata": {},
     "output_type": "execute_result"
    },
    {
     "data": {
      "image/png": "[encoded data removed]",
      "text/plain": [
       "<Figure size 720x720 with 1 Axes>"
      ]
     },
     "metadata": {},
     "output_type": "display_data"
    }
   ],
   "source": [
    "fig = plt.figure(figsize=(10,10))\n",
    "ax = fig.add_axes([0.1, 0.1, 0.8, 0.8])\n",
    "# ax.set_xlabel(\"MET [GeV]\")\n",
    "# ax.set_ylabel(\"events/50 GeV\")\n",
    "\n",
    "n,bins,patches=plt.hist(\n",
    "    data_dictionary['data'].met/1000,\n",
    "    weights = data_dictionary['data'].weight,\n",
    "    bins = np.linspace(0, 1000, 51),\n",
    "    # histtype = 'bar',\n",
    "    # stacked = False,\n",
    "    # label = [label for label in met_dfs_dict],\n",
    "    alpha=0,\n",
    "    # label = \"data\"\n",
    "    # color = \"black\"\n",
    ")\n",
    "\n",
    "plt.scatter(bins[:-1]+ 0.5*(bins[1:] - bins[:-1]), n, marker='o', c='black', s=40, alpha=1, label=\"data\")\n",
    "\n",
    "ax.hist(\n",
    "    [x for x in [histograms_dictionary[x].met/1000 for x in histograms_dictionary][::-1]],\n",
    "    weights = [x for x in [histograms_dictionary[x].weight*0.92 for x in histograms_dictionary][::-1]],\n",
    "    bins = np.linspace(0, 1000, 51),\n",
    "    histtype = 'bar',\n",
    "    stacked = True,\n",
    "    # label = [x for x in histograms_dictionary.keys()],\n",
    "    # label = labels,\n",
    "    label = [y for y in [x for x in histograms_dictionary.keys()][::-1]],\n",
    "    # color = ['green', 'blue', 'yellow', 'pink', 'cyan', 'green', 'blue', 'grey', 'black']\n",
    "    color = ['black', 'grey', 'blue', 'green', 'cyan', 'pink', 'yellow', 'blue', 'green']\n",
    ")\n",
    "\n",
    "ax.hist(\n",
    "    MC_full.met/1000,\n",
    "    weights = MC_full.weight*0.92,\n",
    "    bins = np.linspace(0, 1000, 51),\n",
    "    histtype = 'step',\n",
    "    stacked = True,\n",
    "    label = ['MC Data'],\n",
    "    # label = [r\"$t \\bar t$\", r\"$W \\rightarrow \\tau \\nu$\"]\n",
    "    color = ['red'],\n",
    "    linewidth = 3\n",
    ")\n",
    "\n",
    "\n",
    "# handles, labels = ax.get_legend_handles_labels()\n",
    "# ax.legend(handles = handles[::-1], labels = labels)\n",
    "plt.legend()\n",
    "\n",
    "plt.xlim([0, 1000])\n",
    "\n",
    "\n",
    "ymin, ymax = plt.ylim()\n",
    "plt.ylim(ymin * 1.5, ymax * 1.5)"
   ]
  }
 ],
 "metadata": {
  "interpreter": {
   "hash": "5699ef99482c884f7fd14d1fad8f6066a3a8427b4b3a9e9c87c4ed9a1b53007a"
  },
  "kernelspec": {
   "display_name": "Python 3.9.9 ('venv_ds')",
   "language": "python",
   "name": "python3"
  },
  "language_info": {
   "codemirror_mode": {
    "name": "ipython",
    "version": 3
   },
   "file_extension": ".py",
   "mimetype": "text/x-python",
   "name": "python",
   "nbconvert_exporter": "python",
   "pygments_lexer": "ipython3",
   "version": "3.9.9"
  },
  "orig_nbformat": 4
 },
 "nbformat": 4,
 "nbformat_minor": 2
}
