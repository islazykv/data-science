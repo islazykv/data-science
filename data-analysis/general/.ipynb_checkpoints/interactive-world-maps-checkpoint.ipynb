{
 "cells": [
  {
   "cell_type": "markdown",
   "metadata": {},
   "source": [
    "# Interactive World Maps Generator"
   ]
  },
  {
   "cell_type": "markdown",
   "metadata": {},
   "source": [
    "### Introduction\n",
    "The purpose of this short notebook is to create a function that accepts data sets downloaded from https://data.worldbank.org/ and presents them in the form of an interactive world map (using plotly). After the function is initialized, a new tab opens with a map of world countries. Upon hovoring on a given country, a certain data should be displayed. An interactive world map is also saved locally as temp.html."
   ]
  },
  {
   "cell_type": "markdown",
   "metadata": {},
   "source": [
    "### Libraries\n",
    "Importing essential libraries: pandas and plotly."
   ]
  },
  {
   "cell_type": "code",
   "execution_count": 1,
   "metadata": {},
   "outputs": [],
   "source": [
    "import pandas as pd\n",
    "\n",
    "import plotly as py\n",
    "import plotly.graph_objs as go"
   ]
  },
  {
   "cell_type": "markdown",
   "metadata": {},
   "source": [
    "### Preview of The Data\n",
    "Let's check one of the data set: Life Expectancy."
   ]
  },
  {
   "cell_type": "code",
   "execution_count": 2,
   "metadata": {},
   "outputs": [],
   "source": [
    "preview_df = pd.read_csv(f'data/Life_Expectancy.csv')"
   ]
  },
  {
   "cell_type": "code",
   "execution_count": 3,
   "metadata": {},
   "outputs": [
    {
     "data": {
      "text/html": [
       "<div>\n",
       "<style scoped>\n",
       "    .dataframe tbody tr th:only-of-type {\n",
       "        vertical-align: middle;\n",
       "    }\n",
       "\n",
       "    .dataframe tbody tr th {\n",
       "        vertical-align: top;\n",
       "    }\n",
       "\n",
       "    .dataframe thead th {\n",
       "        text-align: right;\n",
       "    }\n",
       "</style>\n",
       "<table border=\"1\" class=\"dataframe\">\n",
       "  <thead>\n",
       "    <tr style=\"text-align: right;\">\n",
       "      <th></th>\n",
       "      <th>Series Name</th>\n",
       "      <th>Series Code</th>\n",
       "      <th>Country Name</th>\n",
       "      <th>Country Code</th>\n",
       "      <th>1960 [YR1960]</th>\n",
       "      <th>1961 [YR1961]</th>\n",
       "      <th>1962 [YR1962]</th>\n",
       "      <th>1963 [YR1963]</th>\n",
       "      <th>1964 [YR1964]</th>\n",
       "      <th>1965 [YR1965]</th>\n",
       "      <th>...</th>\n",
       "      <th>2010 [YR2010]</th>\n",
       "      <th>2011 [YR2011]</th>\n",
       "      <th>2012 [YR2012]</th>\n",
       "      <th>2013 [YR2013]</th>\n",
       "      <th>2014 [YR2014]</th>\n",
       "      <th>2015 [YR2015]</th>\n",
       "      <th>2016 [YR2016]</th>\n",
       "      <th>2017 [YR2017]</th>\n",
       "      <th>2018 [YR2018]</th>\n",
       "      <th>2019 [YR2019]</th>\n",
       "    </tr>\n",
       "  </thead>\n",
       "  <tbody>\n",
       "    <tr>\n",
       "      <th>0</th>\n",
       "      <td>Life expectancy at birth, total (years)</td>\n",
       "      <td>SP.DYN.LE00.IN</td>\n",
       "      <td>Afghanistan</td>\n",
       "      <td>AFG</td>\n",
       "      <td>32.446</td>\n",
       "      <td>32.962</td>\n",
       "      <td>33.471</td>\n",
       "      <td>33.971</td>\n",
       "      <td>34.463</td>\n",
       "      <td>34.948</td>\n",
       "      <td>...</td>\n",
       "      <td>61.028</td>\n",
       "      <td>61.553</td>\n",
       "      <td>62.054</td>\n",
       "      <td>62.525</td>\n",
       "      <td>62.966</td>\n",
       "      <td>63.377</td>\n",
       "      <td>63.763</td>\n",
       "      <td>64.13</td>\n",
       "      <td>64.486</td>\n",
       "      <td>..</td>\n",
       "    </tr>\n",
       "    <tr>\n",
       "      <th>1</th>\n",
       "      <td>Life expectancy at birth, total (years)</td>\n",
       "      <td>SP.DYN.LE00.IN</td>\n",
       "      <td>Albania</td>\n",
       "      <td>ALB</td>\n",
       "      <td>62.283</td>\n",
       "      <td>63.301</td>\n",
       "      <td>64.19</td>\n",
       "      <td>64.914</td>\n",
       "      <td>65.463</td>\n",
       "      <td>65.85</td>\n",
       "      <td>...</td>\n",
       "      <td>76.562</td>\n",
       "      <td>76.914</td>\n",
       "      <td>77.252</td>\n",
       "      <td>77.554</td>\n",
       "      <td>77.813</td>\n",
       "      <td>78.025</td>\n",
       "      <td>78.194</td>\n",
       "      <td>78.333</td>\n",
       "      <td>78.458</td>\n",
       "      <td>..</td>\n",
       "    </tr>\n",
       "    <tr>\n",
       "      <th>2</th>\n",
       "      <td>Life expectancy at birth, total (years)</td>\n",
       "      <td>SP.DYN.LE00.IN</td>\n",
       "      <td>Algeria</td>\n",
       "      <td>DZA</td>\n",
       "      <td>46.141</td>\n",
       "      <td>46.599</td>\n",
       "      <td>47.056</td>\n",
       "      <td>47.509</td>\n",
       "      <td>47.958</td>\n",
       "      <td>48.394</td>\n",
       "      <td>...</td>\n",
       "      <td>74.938</td>\n",
       "      <td>75.199</td>\n",
       "      <td>75.436</td>\n",
       "      <td>75.661</td>\n",
       "      <td>75.878</td>\n",
       "      <td>76.09</td>\n",
       "      <td>76.298</td>\n",
       "      <td>76.499</td>\n",
       "      <td>76.693</td>\n",
       "      <td>..</td>\n",
       "    </tr>\n",
       "  </tbody>\n",
       "</table>\n",
       "<p>3 rows × 64 columns</p>\n",
       "</div>"
      ],
      "text/plain": [
       "                               Series Name     Series Code Country Name  \\\n",
       "0  Life expectancy at birth, total (years)  SP.DYN.LE00.IN  Afghanistan   \n",
       "1  Life expectancy at birth, total (years)  SP.DYN.LE00.IN      Albania   \n",
       "2  Life expectancy at birth, total (years)  SP.DYN.LE00.IN      Algeria   \n",
       "\n",
       "  Country Code 1960 [YR1960] 1961 [YR1961] 1962 [YR1962] 1963 [YR1963]  \\\n",
       "0          AFG        32.446        32.962        33.471        33.971   \n",
       "1          ALB        62.283        63.301         64.19        64.914   \n",
       "2          DZA        46.141        46.599        47.056        47.509   \n",
       "\n",
       "  1964 [YR1964] 1965 [YR1965]  ... 2010 [YR2010] 2011 [YR2011] 2012 [YR2012]  \\\n",
       "0        34.463        34.948  ...        61.028        61.553        62.054   \n",
       "1        65.463         65.85  ...        76.562        76.914        77.252   \n",
       "2        47.958        48.394  ...        74.938        75.199        75.436   \n",
       "\n",
       "  2013 [YR2013] 2014 [YR2014] 2015 [YR2015] 2016 [YR2016] 2017 [YR2017]  \\\n",
       "0        62.525        62.966        63.377        63.763         64.13   \n",
       "1        77.554        77.813        78.025        78.194        78.333   \n",
       "2        75.661        75.878         76.09        76.298        76.499   \n",
       "\n",
       "  2018 [YR2018] 2019 [YR2019]  \n",
       "0        64.486            ..  \n",
       "1        78.458            ..  \n",
       "2        76.693            ..  \n",
       "\n",
       "[3 rows x 64 columns]"
      ]
     },
     "execution_count": 3,
     "metadata": {},
     "output_type": "execute_result"
    }
   ],
   "source": [
    "preview_df.head(3)"
   ]
  },
  {
   "cell_type": "markdown",
   "metadata": {},
   "source": [
    "The important features are 'Country Code' and the years that we are interested in (from 1960 to 2018)."
   ]
  },
  {
   "cell_type": "markdown",
   "metadata": {},
   "source": [
    "### Function\n",
    "The following function plots the data for the latest year in the dataset (2018). Four different interactive world maps can be obtained:\n",
    "- life expectancy,\n",
    "- total population,\n",
    "- population density,\n",
    "- GDP per capita."
   ]
  },
  {
   "cell_type": "code",
   "execution_count": 4,
   "metadata": {},
   "outputs": [],
   "source": [
    "def map_creator(analysis):\n",
    "\n",
    "    if analysis == 'Life_Expectancy':\n",
    "        my_title = 'Life Expectancy of 2018'\n",
    "        my_cbar = 'Years'\n",
    "    elif analysis == 'Population_Total':\n",
    "        my_title = 'Total Population of 2018'\n",
    "        my_cbar = 'People'\n",
    "    elif analysis == 'Population_Density':\n",
    "        my_title = 'Population Density of 2018'\n",
    "        my_cbar = 'People per km2'\n",
    "    elif analysis == 'GDP_Per_Capita':\n",
    "        my_title = 'GDP Per Capita of 2018'\n",
    "        my_cbar = '$'\n",
    "    else:\n",
    "        raise ValueError('Lack of indicated dataset!')\n",
    "        \n",
    "    data_frame = pd.read_csv(f'data/{analysis}.csv')\n",
    "\n",
    "    data = dict (\n",
    "        type = 'choropleth',\n",
    "        locationmode = 'ISO-3',\n",
    "        locations = data_frame['Country Code'],\n",
    "        z = data_frame['2018 [YR2018]'],\n",
    "        colorscale = 'Portland',\n",
    "        colorbar = {'title': f'{my_cbar}'})\n",
    "\n",
    "    map = go.Figure(data=[data])\n",
    "    \n",
    "    map.update_layout(\n",
    "        title={\n",
    "            'text': f'{my_title}',\n",
    "            'y':0.95,\n",
    "            'x':0.5,\n",
    "            'xanchor': 'center',\n",
    "            'yanchor': 'top'},\n",
    "        \n",
    "        font=dict(\n",
    "            family='Times New Roman',\n",
    "            size=18,\n",
    "            color='black')\n",
    "        )\n",
    "    \n",
    "    py.offline.plot(map)"
   ]
  },
  {
   "cell_type": "code",
   "execution_count": 5,
   "metadata": {},
   "outputs": [],
   "source": [
    "map_creator('Life_Expectancy')"
   ]
  },
  {
   "cell_type": "code",
   "execution_count": 6,
   "metadata": {},
   "outputs": [],
   "source": [
    "map_creator('Population_Total')"
   ]
  },
  {
   "cell_type": "code",
   "execution_count": 7,
   "metadata": {},
   "outputs": [],
   "source": [
    "map_creator('Population_Density')"
   ]
  },
  {
   "cell_type": "code",
   "execution_count": 8,
   "metadata": {},
   "outputs": [],
   "source": [
    "map_creator('GDP_Per_Capita')"
   ]
  },
  {
   "cell_type": "markdown",
   "metadata": {},
   "source": [
    "### Output\n",
    "Images of the interactive world maps for the year 2018:\n",
    "<img src=\"materials/Life_Expectancy_2018.png\"/>\n",
    "<img src=\"materials/Population_Total_2018.png\"/>\n",
    "<img src=\"materials/Population_Density_2018.png\"/>\n",
    "<img src=\"materials/GDP_Per_Capita_2018.png\"/>"
   ]
  }
 ],
 "metadata": {
  "kernelspec": {
   "display_name": "Python 3",
   "language": "python",
   "name": "python3"
  },
  "language_info": {
   "codemirror_mode": {
    "name": "ipython",
    "version": 3
   },
   "file_extension": ".py",
   "mimetype": "text/x-python",
   "name": "python",
   "nbconvert_exporter": "python",
   "pygments_lexer": "ipython3",
   "version": "3.9.1"
  }
 },
 "nbformat": 4,
 "nbformat_minor": 4
}
