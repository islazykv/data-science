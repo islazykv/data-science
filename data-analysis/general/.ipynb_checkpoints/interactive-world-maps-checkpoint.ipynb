{
 "cells": [
  {
   "cell_type": "markdown",
   "metadata": {},
   "source": [
    "# Interactive World Maps"
   ]
  },
  {
   "cell_type": "markdown",
   "metadata": {},
   "source": [
    "### Introduction\n",
    "The purpose of this short notebook is to create a function that accepts data sets downloaded from https://data.worldbank.org/ and presents them in the form of an interactive world map (using plotly). After the function is initialized, a new tab opens with a map of world countries. Upon hovoring on a given country, a certain data should be displayed. An interactive world map is also saved locally as temp.html."
   ]
  },
  {
   "cell_type": "markdown",
   "metadata": {},
   "source": [
    "### Libraries\n",
    "Importing essential libraries: pandas and plotly."
   ]
  },
  {
   "cell_type": "code",
   "execution_count": 1,
   "metadata": {},
   "outputs": [],
   "source": [
    "import pandas as pd\n",
    "\n",
    "import plotly as py\n",
    "import plotly.graph_objs as go"
   ]
  },
  {
   "cell_type": "markdown",
   "metadata": {},
   "source": [
    "### Function\n",
    "The following data can be displayed:\n",
    "- life expectancy,\n",
    "- total population,\n",
    "- population density,\n",
    "- GDP per capita."
   ]
  },
  {
   "cell_type": "code",
   "execution_count": 2,
   "metadata": {},
   "outputs": [],
   "source": [
    "def map_creator(analysis):\n",
    "\n",
    "    if analysis == 'Life_Expectancy':\n",
    "        my_title = 'Life Expectancy of 2018'\n",
    "        my_cbar = 'Years'\n",
    "    elif analysis == 'Population_Total':\n",
    "        my_title = 'Total Population of 2018'\n",
    "        my_cbar = 'People'\n",
    "    elif analysis == 'Population_Density':\n",
    "        my_title = 'Population Density of 2018'\n",
    "        my_cbar = 'People per km2'\n",
    "    elif analysis == 'GDP_Per_Capita':\n",
    "        my_title = 'GDP Per Capita of 2018'\n",
    "        my_cbar = '$'\n",
    "    else:\n",
    "        raise ValueError('Lack of indicated dataset!')\n",
    "        \n",
    "    data_frame = pd.read_csv(f'data/{analysis}.csv')\n",
    "\n",
    "    data = dict (\n",
    "        type = 'choropleth',\n",
    "        locationmode = 'ISO-3',\n",
    "        locations = data_frame['Country Code'],\n",
    "        z = data_frame['2018 [YR2018]'],\n",
    "        colorscale = 'Portland',\n",
    "        colorbar = {'title': f'{my_cbar}'})\n",
    "\n",
    "    map = go.Figure(data=[data])\n",
    "    \n",
    "    map.update_layout(\n",
    "        title={\n",
    "            'text': f'{my_title}',\n",
    "            'y':0.95,\n",
    "            'x':0.5,\n",
    "            'xanchor': 'center',\n",
    "            'yanchor': 'top'},\n",
    "        \n",
    "        font=dict(\n",
    "            family='Times New Roman',\n",
    "            size=18,\n",
    "            color='black')\n",
    "        )\n",
    "    \n",
    "    py.offline.plot(map)"
   ]
  },
  {
   "cell_type": "code",
   "execution_count": 3,
   "metadata": {},
   "outputs": [],
   "source": [
    "map_creator('Life_Expectancy')"
   ]
  },
  {
   "cell_type": "code",
   "execution_count": 4,
   "metadata": {},
   "outputs": [],
   "source": [
    "map_creator('Population_Total')"
   ]
  },
  {
   "cell_type": "code",
   "execution_count": 5,
   "metadata": {},
   "outputs": [],
   "source": [
    "map_creator('Population_Density')"
   ]
  },
  {
   "cell_type": "code",
   "execution_count": 6,
   "metadata": {},
   "outputs": [],
   "source": [
    "map_creator('GDP_Per_Capita')"
   ]
  },
  {
   "cell_type": "markdown",
   "metadata": {},
   "source": [
    "### Output\n",
    "Images of the interactive world maps:\n",
    "<img src=\"materials/Life_Expectancy_2018.png\"/>\n",
    "<img src=\"materials/Population_Total_2018.png\"/>\n",
    "<img src=\"materials/Population_Density_2018.png\"/>\n",
    "<img src=\"materials/GDP_Per_Capita_2018.png\"/>"
   ]
  }
 ],
 "metadata": {
  "kernelspec": {
   "display_name": "Python 3",
   "language": "python",
   "name": "python3"
  },
  "language_info": {
   "codemirror_mode": {
    "name": "ipython",
    "version": 3
   },
   "file_extension": ".py",
   "mimetype": "text/x-python",
   "name": "python",
   "nbconvert_exporter": "python",
   "pygments_lexer": "ipython3",
   "version": "3.9.1"
  }
 },
 "nbformat": 4,
 "nbformat_minor": 4
}
