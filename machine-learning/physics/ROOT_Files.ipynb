{
 "cells": [
  {
   "cell_type": "markdown",
   "id": "564d233a-7b1e-4aeb-942c-077d0032e80b",
   "metadata": {},
   "source": [
    "# Reading .ROOT files outside the ROOT framework"
   ]
  },
  {
   "cell_type": "markdown",
   "id": "09eb323b-f0ed-40fe-b8d9-8ca26e7f1c9a",
   "metadata": {},
   "source": [
    "While checking the ATLAS data structure of ROOT files (downloaded from http://opendata.cern.ch/), I tried to load, read and convert corresponding data files into NumPy arrays / Pandas dataframes.\n",
    "\n",
    "Possible ways of reading .ROOT files:\n",
    "* use ROOT to convert objects into numpy arrays (requires ROOT),\n",
    "* use root_numpy or root_pandas libraries (deprecated and unmaintained),\n",
    "* <b> use [uproot library](https://uproot.readthedocs.io/en/latest/) </b>,\n",
    "* other ways."
   ]
  },
  {
   "cell_type": "markdown",
   "id": "3b2d5478-6fc8-49b6-a43e-6b979c6283d6",
   "metadata": {},
   "source": [
    "### Importing libraries"
   ]
  },
  {
   "cell_type": "code",
   "execution_count": 1,
   "id": "7bddff44-5c99-41f2-a815-a69a492e9bb8",
   "metadata": {},
   "outputs": [],
   "source": [
    "import uproot as ur\n",
    "import numpy as np\n",
    "import pandas as pd"
   ]
  },
  {
   "cell_type": "markdown",
   "id": "b44d3b74-4bf8-4b14-9b7a-89f1368ef540",
   "metadata": {},
   "source": [
    "### Opening a file"
   ]
  },
  {
   "cell_type": "code",
   "execution_count": 2,
   "id": "f790382c-bc3a-44c9-95cf-b09823e3bf2e",
   "metadata": {},
   "outputs": [],
   "source": [
    "file_root = ur.open(\"ATLAS_1lep1tau/Data/data_A.1lep1tau.root\")"
   ]
  },
  {
   "cell_type": "code",
   "execution_count": 3,
   "id": "bd8c99db-b6c4-44b6-a258-fd7f7271b626",
   "metadata": {},
   "outputs": [
    {
     "data": {
      "text/plain": [
       "<ReadOnlyDirectory '/' at 0x7f18658747f0>"
      ]
     },
     "execution_count": 3,
     "metadata": {},
     "output_type": "execute_result"
    }
   ],
   "source": [
    "file_root"
   ]
  },
  {
   "cell_type": "code",
   "execution_count": 4,
   "id": "688ca2cb-d71c-4f1d-8996-ebc5b11c5b81",
   "metadata": {},
   "outputs": [
    {
     "data": {
      "text/plain": [
       "['mini;1']"
      ]
     },
     "execution_count": 4,
     "metadata": {},
     "output_type": "execute_result"
    }
   ],
   "source": [
    "file_root.keys()"
   ]
  },
  {
   "cell_type": "code",
   "execution_count": 5,
   "id": "c4dd3ecb-d06e-48eb-b1e2-bddefd45373f",
   "metadata": {},
   "outputs": [
    {
     "data": {
      "text/plain": [
       "{'mini;1': 'TTree'}"
      ]
     },
     "execution_count": 5,
     "metadata": {},
     "output_type": "execute_result"
    }
   ],
   "source": [
    "file_root.classnames()"
   ]
  },
  {
   "cell_type": "code",
   "execution_count": 6,
   "id": "384f3923-da20-4f80-9558-73d12534877b",
   "metadata": {},
   "outputs": [],
   "source": [
    "data_root = file_root['mini;1']"
   ]
  },
  {
   "cell_type": "markdown",
   "id": "c943f758-159b-4f29-a7c3-9345cf54c953",
   "metadata": {},
   "source": [
    "### Shortcut"
   ]
  },
  {
   "cell_type": "code",
   "execution_count": 7,
   "id": "bf960b38-8b3e-4665-bee5-04a0b14977c8",
   "metadata": {},
   "outputs": [],
   "source": [
    "data_root = ur.open(\"ATLAS_1lep1tau/Data/data_B.1lep1tau.root\")[\"mini;1\"]"
   ]
  },
  {
   "cell_type": "markdown",
   "id": "d3741f91-0d88-436e-8590-de6df73b7c28",
   "metadata": {},
   "source": [
    "### Features"
   ]
  },
  {
   "cell_type": "code",
   "execution_count": 8,
   "id": "2050dc5e-64ad-4d2b-8287-596aaba3bf85",
   "metadata": {},
   "outputs": [
    {
     "data": {
      "text/plain": [
       "<TTree 'mini' (81 branches) at 0x7f1864bb4b20>"
      ]
     },
     "execution_count": 8,
     "metadata": {},
     "output_type": "execute_result"
    }
   ],
   "source": [
    "data_root"
   ]
  },
  {
   "cell_type": "code",
   "execution_count": 9,
   "id": "9dd97d7d-b6a9-4e71-b0f8-30b757f655e8",
   "metadata": {},
   "outputs": [
    {
     "name": "stdout",
     "output_type": "stream",
     "text": [
      "['runNumber', 'eventNumber', 'channelNumber', 'mcWeight', 'scaleFactor_PILEUP', 'scaleFactor_ELE', 'scaleFactor_MUON', 'scaleFactor_PHOTON', 'scaleFactor_TAU', 'scaleFactor_BTAG', 'scaleFactor_LepTRIGGER', 'scaleFactor_PhotonTRIGGER', 'trigE', 'trigM', 'trigP', 'lep_n', 'lep_truthMatched', 'lep_trigMatched', 'lep_pt', 'lep_eta', 'lep_phi', 'lep_E', 'lep_z0', 'lep_charge', 'lep_type', 'lep_isTightID', 'lep_ptcone30', 'lep_etcone20', 'lep_trackd0pvunbiased', 'lep_tracksigd0pvunbiased', 'met_et', 'met_phi', 'jet_n', 'jet_pt', 'jet_eta', 'jet_phi', 'jet_E', 'jet_jvt', 'jet_trueflav', 'jet_truthMatched', 'jet_MV2c10', 'photon_n', 'photon_truthMatched', 'photon_trigMatched', 'photon_pt', 'photon_eta', 'photon_phi', 'photon_E', 'photon_isTightID', 'photon_ptcone30', 'photon_etcone20', 'photon_convType', 'tau_n', 'tau_pt', 'tau_eta', 'tau_phi', 'tau_E', 'tau_charge', 'tau_isTightID', 'tau_truthMatched', 'tau_trigMatched', 'tau_nTracks', 'tau_BDTid', 'ditau_m', 'lep_pt_syst', 'met_et_syst', 'jet_pt_syst', 'photon_pt_syst', 'tau_pt_syst', 'XSection', 'SumWeights', 'largeRjet_n', 'largeRjet_pt', 'largeRjet_eta', 'largeRjet_phi', 'largeRjet_E', 'largeRjet_m', 'largeRjet_truthMatched', 'largeRjet_D2', 'largeRjet_tau32', 'largeRjet_pt_syst']\n"
     ]
    }
   ],
   "source": [
    "print(data_root.keys())"
   ]
  },
  {
   "cell_type": "code",
   "execution_count": 10,
   "id": "29cc70f4-01a6-4f08-aff1-3a9d8757b057",
   "metadata": {},
   "outputs": [
    {
     "name": "stdout",
     "output_type": "stream",
     "text": [
      "name                 | typename                 | interpretation                \n",
      "---------------------+--------------------------+-------------------------------\n",
      "runNumber            | int32_t                  | AsDtype('>i4')\n",
      "eventNumber          | int32_t                  | AsDtype('>i4')\n",
      "channelNumber        | int32_t                  | AsDtype('>i4')\n",
      "mcWeight             | float                    | AsDtype('>f4')\n",
      "scaleFactor_PILEUP   | float                    | AsDtype('>f4')\n",
      "scaleFactor_ELE      | float                    | AsDtype('>f4')\n",
      "scaleFactor_MUON     | float                    | AsDtype('>f4')\n",
      "scaleFactor_PHOTON   | float                    | AsDtype('>f4')\n",
      "scaleFactor_TAU      | float                    | AsDtype('>f4')\n",
      "scaleFactor_BTAG     | float                    | AsDtype('>f4')\n",
      "scaleFactor_LepTR... | float                    | AsDtype('>f4')\n",
      "scaleFactor_Photo... | float                    | AsDtype('>f4')\n",
      "trigE                | bool                     | AsDtype('bool')\n",
      "trigM                | bool                     | AsDtype('bool')\n",
      "trigP                | bool                     | AsDtype('bool')\n",
      "lep_n                | uint32_t                 | AsDtype('>u4')\n",
      "lep_truthMatched     | std::vector<bool>        | AsJagged(AsDtype('bool'), h...\n",
      "lep_trigMatched      | std::vector<bool>        | AsJagged(AsDtype('bool'), h...\n",
      "lep_pt               | std::vector<float>       | AsJagged(AsDtype('>f4'), he...\n",
      "lep_eta              | std::vector<float>       | AsJagged(AsDtype('>f4'), he...\n",
      "lep_phi              | std::vector<float>       | AsJagged(AsDtype('>f4'), he...\n",
      "lep_E                | std::vector<float>       | AsJagged(AsDtype('>f4'), he...\n",
      "lep_z0               | std::vector<float>       | AsJagged(AsDtype('>f4'), he...\n",
      "lep_charge           | std::vector<int32_t>     | AsJagged(AsDtype('>i4'), he...\n",
      "lep_type             | std::vector<uint32_t>    | AsJagged(AsDtype('>u4'), he...\n",
      "lep_isTightID        | std::vector<bool>        | AsJagged(AsDtype('bool'), h...\n",
      "lep_ptcone30         | std::vector<float>       | AsJagged(AsDtype('>f4'), he...\n",
      "lep_etcone20         | std::vector<float>       | AsJagged(AsDtype('>f4'), he...\n",
      "lep_trackd0pvunbi... | std::vector<float>       | AsJagged(AsDtype('>f4'), he...\n",
      "lep_tracksigd0pvu... | std::vector<float>       | AsJagged(AsDtype('>f4'), he...\n",
      "met_et               | float                    | AsDtype('>f4')\n",
      "met_phi              | float                    | AsDtype('>f4')\n",
      "jet_n                | uint32_t                 | AsDtype('>u4')\n",
      "jet_pt               | std::vector<float>       | AsJagged(AsDtype('>f4'), he...\n",
      "jet_eta              | std::vector<float>       | AsJagged(AsDtype('>f4'), he...\n",
      "jet_phi              | std::vector<float>       | AsJagged(AsDtype('>f4'), he...\n",
      "jet_E                | std::vector<float>       | AsJagged(AsDtype('>f4'), he...\n",
      "jet_jvt              | std::vector<float>       | AsJagged(AsDtype('>f4'), he...\n",
      "jet_trueflav         | std::vector<int32_t>     | AsJagged(AsDtype('>i4'), he...\n",
      "jet_truthMatched     | std::vector<bool>        | AsJagged(AsDtype('bool'), h...\n",
      "jet_MV2c10           | std::vector<float>       | AsJagged(AsDtype('>f4'), he...\n",
      "photon_n             | uint32_t                 | AsDtype('>u4')\n",
      "photon_truthMatched  | std::vector<bool>        | AsJagged(AsDtype('bool'), h...\n",
      "photon_trigMatched   | std::vector<bool>        | AsJagged(AsDtype('bool'), h...\n",
      "photon_pt            | std::vector<float>       | AsJagged(AsDtype('>f4'), he...\n",
      "photon_eta           | std::vector<float>       | AsJagged(AsDtype('>f4'), he...\n",
      "photon_phi           | std::vector<float>       | AsJagged(AsDtype('>f4'), he...\n",
      "photon_E             | std::vector<float>       | AsJagged(AsDtype('>f4'), he...\n",
      "photon_isTightID     | std::vector<bool>        | AsJagged(AsDtype('bool'), h...\n",
      "photon_ptcone30      | std::vector<float>       | AsJagged(AsDtype('>f4'), he...\n",
      "photon_etcone20      | std::vector<float>       | AsJagged(AsDtype('>f4'), he...\n",
      "photon_convType      | std::vector<int32_t>     | AsJagged(AsDtype('>i4'), he...\n",
      "tau_n                | uint32_t                 | AsDtype('>u4')\n",
      "tau_pt               | std::vector<float>       | AsJagged(AsDtype('>f4'), he...\n",
      "tau_eta              | std::vector<float>       | AsJagged(AsDtype('>f4'), he...\n",
      "tau_phi              | std::vector<float>       | AsJagged(AsDtype('>f4'), he...\n",
      "tau_E                | std::vector<float>       | AsJagged(AsDtype('>f4'), he...\n",
      "tau_charge           | std::vector<int32_t>     | AsJagged(AsDtype('>i4'), he...\n",
      "tau_isTightID        | std::vector<bool>        | AsJagged(AsDtype('bool'), h...\n",
      "tau_truthMatched     | std::vector<bool>        | AsJagged(AsDtype('bool'), h...\n",
      "tau_trigMatched      | std::vector<bool>        | AsJagged(AsDtype('bool'), h...\n",
      "tau_nTracks          | std::vector<int32_t>     | AsJagged(AsDtype('>i4'), he...\n",
      "tau_BDTid            | std::vector<float>       | AsJagged(AsDtype('>f4'), he...\n",
      "ditau_m              | float                    | AsDtype('>f4')\n",
      "lep_pt_syst          | std::vector<float>       | AsJagged(AsDtype('>f4'), he...\n",
      "met_et_syst          | float                    | AsDtype('>f4')\n",
      "jet_pt_syst          | std::vector<float>       | AsJagged(AsDtype('>f4'), he...\n",
      "photon_pt_syst       | std::vector<float>       | AsJagged(AsDtype('>f4'), he...\n",
      "tau_pt_syst          | std::vector<float>       | AsJagged(AsDtype('>f4'), he...\n",
      "XSection             | float                    | AsDtype('>f4')\n",
      "SumWeights           | float                    | AsDtype('>f4')\n",
      "largeRjet_n          | uint32_t                 | AsDtype('>u4')\n",
      "largeRjet_pt         | std::vector<float>       | AsJagged(AsDtype('>f4'), he...\n",
      "largeRjet_eta        | std::vector<float>       | AsJagged(AsDtype('>f4'), he...\n",
      "largeRjet_phi        | std::vector<float>       | AsJagged(AsDtype('>f4'), he...\n",
      "largeRjet_E          | std::vector<float>       | AsJagged(AsDtype('>f4'), he...\n",
      "largeRjet_m          | std::vector<float>       | AsJagged(AsDtype('>f4'), he...\n",
      "largeRjet_truthMa... | std::vector<float>       | AsJagged(AsDtype('>f4'), he...\n",
      "largeRjet_D2         | std::vector<float>       | AsJagged(AsDtype('>f4'), he...\n",
      "largeRjet_tau32      | std::vector<float>       | AsJagged(AsDtype('>f4'), he...\n",
      "largeRjet_pt_syst    | std::vector<float>       | AsJagged(AsDtype('>f4'), he...\n"
     ]
    }
   ],
   "source": [
    "data_root.show()"
   ]
  },
  {
   "cell_type": "markdown",
   "id": "fbe52dae-099e-4c5b-9e25-22288fd45a81",
   "metadata": {},
   "source": [
    "### Creating series"
   ]
  },
  {
   "cell_type": "code",
   "execution_count": 11,
   "id": "65af4ac7-27fc-47a4-b92b-1485ee946943",
   "metadata": {},
   "outputs": [],
   "source": [
    "series = data_root['lep_pt'].array(library='pd')"
   ]
  },
  {
   "cell_type": "code",
   "execution_count": 12,
   "id": "90bde21f-29ff-4133-b98b-2184fbfd1741",
   "metadata": {},
   "outputs": [
    {
     "data": {
      "text/plain": [
       "entry   subentry\n",
       "0       0           30623.533203\n",
       "1       0           25741.923828\n",
       "2       0           25151.730469\n",
       "3       0           25600.916016\n",
       "4       0           48431.027344\n",
       "                        ...     \n",
       "170693  0           36389.511719\n",
       "170694  0           41719.011719\n",
       "170695  0           32028.734375\n",
       "170696  0           37340.351562\n",
       "170697  0           28852.873047\n",
       "Length: 179265, dtype: float32"
      ]
     },
     "execution_count": 12,
     "metadata": {},
     "output_type": "execute_result"
    }
   ],
   "source": [
    "series"
   ]
  },
  {
   "cell_type": "markdown",
   "id": "bb79527c-7c52-4a9c-b656-7191c1cab596",
   "metadata": {},
   "source": [
    "### Creating a dataframe with features that we are interested in"
   ]
  },
  {
   "cell_type": "code",
   "execution_count": 13,
   "id": "77961033-7a3f-407a-bd73-c1570bd609c9",
   "metadata": {},
   "outputs": [],
   "source": [
    "df = data_root.arrays(['runNumber', 'eventNumber', 'channelNumber', 'mcWeight', 'scaleFactor_TAU', 'scaleFactor_ELE', 'scaleFactor_MUON', 'trigP', 'lep_pt'], library='pd')"
   ]
  },
  {
   "cell_type": "code",
   "execution_count": 14,
   "id": "1d7ff042-27ad-45cc-8e26-a1b0664165c9",
   "metadata": {},
   "outputs": [
    {
     "data": {
      "text/html": [
       "<div>\n",
       "<style scoped>\n",
       "    .dataframe tbody tr th:only-of-type {\n",
       "        vertical-align: middle;\n",
       "    }\n",
       "\n",
       "    .dataframe tbody tr th {\n",
       "        vertical-align: top;\n",
       "    }\n",
       "\n",
       "    .dataframe thead th {\n",
       "        text-align: right;\n",
       "    }\n",
       "</style>\n",
       "<table border=\"1\" class=\"dataframe\">\n",
       "  <thead>\n",
       "    <tr style=\"text-align: right;\">\n",
       "      <th></th>\n",
       "      <th></th>\n",
       "      <th>runNumber</th>\n",
       "      <th>eventNumber</th>\n",
       "      <th>channelNumber</th>\n",
       "      <th>mcWeight</th>\n",
       "      <th>scaleFactor_TAU</th>\n",
       "      <th>scaleFactor_ELE</th>\n",
       "      <th>scaleFactor_MUON</th>\n",
       "      <th>trigP</th>\n",
       "      <th>lep_pt</th>\n",
       "    </tr>\n",
       "    <tr>\n",
       "      <th>entry</th>\n",
       "      <th>subentry</th>\n",
       "      <th></th>\n",
       "      <th></th>\n",
       "      <th></th>\n",
       "      <th></th>\n",
       "      <th></th>\n",
       "      <th></th>\n",
       "      <th></th>\n",
       "      <th></th>\n",
       "      <th></th>\n",
       "    </tr>\n",
       "  </thead>\n",
       "  <tbody>\n",
       "    <tr>\n",
       "      <th>0</th>\n",
       "      <th>0</th>\n",
       "      <td>300784</td>\n",
       "      <td>7420417</td>\n",
       "      <td>300784</td>\n",
       "      <td>0.0</td>\n",
       "      <td>0.0</td>\n",
       "      <td>0.0</td>\n",
       "      <td>0.0</td>\n",
       "      <td>False</td>\n",
       "      <td>30623.533203</td>\n",
       "    </tr>\n",
       "    <tr>\n",
       "      <th>1</th>\n",
       "      <th>0</th>\n",
       "      <td>300784</td>\n",
       "      <td>6081355</td>\n",
       "      <td>300784</td>\n",
       "      <td>0.0</td>\n",
       "      <td>0.0</td>\n",
       "      <td>0.0</td>\n",
       "      <td>0.0</td>\n",
       "      <td>False</td>\n",
       "      <td>25741.923828</td>\n",
       "    </tr>\n",
       "    <tr>\n",
       "      <th>2</th>\n",
       "      <th>0</th>\n",
       "      <td>300784</td>\n",
       "      <td>7101133</td>\n",
       "      <td>300784</td>\n",
       "      <td>0.0</td>\n",
       "      <td>0.0</td>\n",
       "      <td>0.0</td>\n",
       "      <td>0.0</td>\n",
       "      <td>False</td>\n",
       "      <td>25151.730469</td>\n",
       "    </tr>\n",
       "    <tr>\n",
       "      <th>3</th>\n",
       "      <th>0</th>\n",
       "      <td>300784</td>\n",
       "      <td>7209999</td>\n",
       "      <td>300784</td>\n",
       "      <td>0.0</td>\n",
       "      <td>0.0</td>\n",
       "      <td>0.0</td>\n",
       "      <td>0.0</td>\n",
       "      <td>False</td>\n",
       "      <td>25600.916016</td>\n",
       "    </tr>\n",
       "    <tr>\n",
       "      <th>4</th>\n",
       "      <th>0</th>\n",
       "      <td>300784</td>\n",
       "      <td>6265888</td>\n",
       "      <td>300784</td>\n",
       "      <td>0.0</td>\n",
       "      <td>0.0</td>\n",
       "      <td>0.0</td>\n",
       "      <td>0.0</td>\n",
       "      <td>False</td>\n",
       "      <td>48431.027344</td>\n",
       "    </tr>\n",
       "    <tr>\n",
       "      <th>...</th>\n",
       "      <th>...</th>\n",
       "      <td>...</td>\n",
       "      <td>...</td>\n",
       "      <td>...</td>\n",
       "      <td>...</td>\n",
       "      <td>...</td>\n",
       "      <td>...</td>\n",
       "      <td>...</td>\n",
       "      <td>...</td>\n",
       "      <td>...</td>\n",
       "    </tr>\n",
       "    <tr>\n",
       "      <th>170693</th>\n",
       "      <th>0</th>\n",
       "      <td>300655</td>\n",
       "      <td>1651658680</td>\n",
       "      <td>300655</td>\n",
       "      <td>0.0</td>\n",
       "      <td>0.0</td>\n",
       "      <td>0.0</td>\n",
       "      <td>0.0</td>\n",
       "      <td>False</td>\n",
       "      <td>36389.511719</td>\n",
       "    </tr>\n",
       "    <tr>\n",
       "      <th>170694</th>\n",
       "      <th>0</th>\n",
       "      <td>300655</td>\n",
       "      <td>1651925813</td>\n",
       "      <td>300655</td>\n",
       "      <td>0.0</td>\n",
       "      <td>0.0</td>\n",
       "      <td>0.0</td>\n",
       "      <td>0.0</td>\n",
       "      <td>False</td>\n",
       "      <td>41719.011719</td>\n",
       "    </tr>\n",
       "    <tr>\n",
       "      <th>170695</th>\n",
       "      <th>0</th>\n",
       "      <td>300655</td>\n",
       "      <td>1651191459</td>\n",
       "      <td>300655</td>\n",
       "      <td>0.0</td>\n",
       "      <td>0.0</td>\n",
       "      <td>0.0</td>\n",
       "      <td>0.0</td>\n",
       "      <td>False</td>\n",
       "      <td>32028.734375</td>\n",
       "    </tr>\n",
       "    <tr>\n",
       "      <th>170696</th>\n",
       "      <th>0</th>\n",
       "      <td>300655</td>\n",
       "      <td>1652083942</td>\n",
       "      <td>300655</td>\n",
       "      <td>0.0</td>\n",
       "      <td>0.0</td>\n",
       "      <td>0.0</td>\n",
       "      <td>0.0</td>\n",
       "      <td>False</td>\n",
       "      <td>37340.351562</td>\n",
       "    </tr>\n",
       "    <tr>\n",
       "      <th>170697</th>\n",
       "      <th>0</th>\n",
       "      <td>300655</td>\n",
       "      <td>1653802518</td>\n",
       "      <td>300655</td>\n",
       "      <td>0.0</td>\n",
       "      <td>0.0</td>\n",
       "      <td>0.0</td>\n",
       "      <td>0.0</td>\n",
       "      <td>False</td>\n",
       "      <td>28852.873047</td>\n",
       "    </tr>\n",
       "  </tbody>\n",
       "</table>\n",
       "<p>179265 rows × 9 columns</p>\n",
       "</div>"
      ],
      "text/plain": [
       "                 runNumber  eventNumber  channelNumber  mcWeight  \\\n",
       "entry  subentry                                                    \n",
       "0      0            300784      7420417         300784       0.0   \n",
       "1      0            300784      6081355         300784       0.0   \n",
       "2      0            300784      7101133         300784       0.0   \n",
       "3      0            300784      7209999         300784       0.0   \n",
       "4      0            300784      6265888         300784       0.0   \n",
       "...                    ...          ...            ...       ...   \n",
       "170693 0            300655   1651658680         300655       0.0   \n",
       "170694 0            300655   1651925813         300655       0.0   \n",
       "170695 0            300655   1651191459         300655       0.0   \n",
       "170696 0            300655   1652083942         300655       0.0   \n",
       "170697 0            300655   1653802518         300655       0.0   \n",
       "\n",
       "                 scaleFactor_TAU  scaleFactor_ELE  scaleFactor_MUON  trigP  \\\n",
       "entry  subentry                                                              \n",
       "0      0                     0.0              0.0               0.0  False   \n",
       "1      0                     0.0              0.0               0.0  False   \n",
       "2      0                     0.0              0.0               0.0  False   \n",
       "3      0                     0.0              0.0               0.0  False   \n",
       "4      0                     0.0              0.0               0.0  False   \n",
       "...                          ...              ...               ...    ...   \n",
       "170693 0                     0.0              0.0               0.0  False   \n",
       "170694 0                     0.0              0.0               0.0  False   \n",
       "170695 0                     0.0              0.0               0.0  False   \n",
       "170696 0                     0.0              0.0               0.0  False   \n",
       "170697 0                     0.0              0.0               0.0  False   \n",
       "\n",
       "                       lep_pt  \n",
       "entry  subentry                \n",
       "0      0         30623.533203  \n",
       "1      0         25741.923828  \n",
       "2      0         25151.730469  \n",
       "3      0         25600.916016  \n",
       "4      0         48431.027344  \n",
       "...                       ...  \n",
       "170693 0         36389.511719  \n",
       "170694 0         41719.011719  \n",
       "170695 0         32028.734375  \n",
       "170696 0         37340.351562  \n",
       "170697 0         28852.873047  \n",
       "\n",
       "[179265 rows x 9 columns]"
      ]
     },
     "execution_count": 14,
     "metadata": {},
     "output_type": "execute_result"
    }
   ],
   "source": [
    "df"
   ]
  },
  {
   "cell_type": "markdown",
   "id": "382f5104-e8bf-4bc0-97ad-26a4a1a41858",
   "metadata": {},
   "source": [
    "### Creating a dataframe with all the features in the data"
   ]
  },
  {
   "cell_type": "code",
   "execution_count": 15,
   "id": "821ab851-57a6-4311-aedb-46379f629441",
   "metadata": {},
   "outputs": [],
   "source": [
    "df_full = data_root.arrays(data_root.keys(), library='pd')"
   ]
  },
  {
   "cell_type": "markdown",
   "id": "c362211a-d223-4a5c-8e5a-8c8a1d4b02ab",
   "metadata": {},
   "source": [
    "### Performance"
   ]
  },
  {
   "cell_type": "code",
   "execution_count": 16,
   "id": "fdaa8cca-2e38-4a91-8453-ed1d83500964",
   "metadata": {},
   "outputs": [],
   "source": [
    "import time\n",
    "import os"
   ]
  },
  {
   "cell_type": "code",
   "execution_count": 17,
   "id": "d239e225-ef3d-4546-a06b-97b53c7be508",
   "metadata": {},
   "outputs": [],
   "source": [
    "import matplotlib.pyplot as plt\n",
    "import seaborn as sns\n",
    "%matplotlib inline"
   ]
  },
  {
   "cell_type": "code",
   "execution_count": 18,
   "id": "fad87203-806c-4116-87ad-a84307a2f9b8",
   "metadata": {},
   "outputs": [],
   "source": [
    "files = ['data_A.1lep1tau', 'data_B.1lep1tau', 'data_C.1lep1tau', 'data_D.1lep1tau', 'mc_363490.llll.1lep1tau', 'mc_363491.lllv.1lep1tau', 'mc_410000.ttbar_lep.1lep1tau']"
   ]
  },
  {
   "cell_type": "code",
   "execution_count": 19,
   "id": "50acc858-8be9-4d74-9a13-a19cdb13a39b",
   "metadata": {},
   "outputs": [],
   "source": [
    "def load():\n",
    "    \n",
    "    sizes = []\n",
    "    times_np = []\n",
    "    times_pd = []\n",
    "    \n",
    "    for file in files:\n",
    "        size = np.around(os.path.getsize((f\"Files/{file}.root\"))/1000/1000, 0)\n",
    "        sizes.append(size)\n",
    "        \n",
    "        data = ur.open(f\"Files/{file}.root\")[\"mini;1\"]\n",
    "        \n",
    "        start_time1 = time.time()\n",
    "        df_np = data.arrays(data.keys(), library = \"np\")\n",
    "        time_np = np.around(time.time() - start_time1, 2)\n",
    "        times_np.append(time_np)\n",
    "    \n",
    "        start_time2 = time.time()\n",
    "        df_pd = data.arrays(data.keys(), library = \"pd\")\n",
    "        time_pd = np.around(time.time() - start_time2, 2)\n",
    "        times_pd.append(time_pd)\n",
    "        \n",
    "    fig = plt.figure(figsize=(24,8))\n",
    "    ax = fig.add_axes([0.15, 0.15, 0.75, 0.75])\n",
    "\n",
    "    plt.subplot(121)\n",
    "    plt.title('Numpy Arrays')\n",
    "    plt.xlabel('Time [s]')\n",
    "    plt.ylabel('Size [Mb]')\n",
    "    sns.lineplot(x=times_np, y=sizes, color='green', marker='o', markersize=12)\n",
    "\n",
    "\n",
    "    plt.subplot(122)\n",
    "    plt.title('Pandas Dataframes')\n",
    "    plt.xlabel('Time [s]')\n",
    "    plt.ylabel('Size [Mb]')\n",
    "    sns.lineplot(x=times_pd, y=sizes, color='green', marker='o', markersize=12)\n",
    "\n",
    "    plt.show()"
   ]
  },
  {
   "cell_type": "code",
   "execution_count": 20,
   "id": "ce88d08b-3865-4472-99f2-35cab6ba7282",
   "metadata": {},
   "outputs": [
    {
     "data": {
      "image/png": "[encoded data removed]",
      "text/plain": [
       "<Figure size 1728x576 with 2 Axes>"
      ]
     },
     "metadata": {
      "needs_background": "light"
     },
     "output_type": "display_data"
    }
   ],
   "source": [
    "load()"
   ]
  }
 ],
 "metadata": {
  "kernelspec": {
   "display_name": "Python 3 (ipykernel)",
   "language": "python",
   "name": "python3"
  },
  "language_info": {
   "codemirror_mode": {
    "name": "ipython",
    "version": 3
   },
   "file_extension": ".py",
   "mimetype": "text/x-python",
   "name": "python",
   "nbconvert_exporter": "python",
   "pygments_lexer": "ipython3",
   "version": "3.8.12"
  }
 },
 "nbformat": 4,
 "nbformat_minor": 5
}
