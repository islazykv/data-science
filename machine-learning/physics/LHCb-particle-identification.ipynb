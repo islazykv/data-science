{
 "cells": [
  {
   "cell_type": "markdown",
   "metadata": {},
   "source": [
    "# LHCb Particle Identification"
   ]
  },
  {
   "cell_type": "markdown",
   "metadata": {},
   "source": [
    "The goal of this project is to create a model that identifies particles passing through the LHCb detector. The spectrometer is composed of many sub-detector systems such as: tracking system, Ring-Imaging Cherenkov (RICH) detectors, electromagnetic and hadronic calorimeters and muon chambers.\n",
    "\n",
    "<img width=100% align=\"center\" src=\"materials/LHCb_Detector.png\"/>\n",
    "\n",
    "The particles of interests are electrons, muons, kaons, pions. Particles that are different than the mentioned particles are called ghosts. Ghosts can also be a product of the detector noise.\n",
    "\n",
    "<img width=50% align=\"center\" src=\"materials/LHCb_PID.png\"/>\n",
    "\n",
    "#### List of the features:\n",
    "Here, **Spd** stands for Scintillating Pad Detector, **Prs** - Preshower, **Ecal** - electromagnetic calorimeter, **Hcal** - hadronic calorimeter, **Brem** denotes traces of the particles that were deflected by detector.\n",
    "\n",
    "- Label - string valued observable denoting particle types. Can take values \"Electron\", \"Muon\", \"Kaon\", \"Proton\", \"Pion\" and \"Ghost\".\n",
    "- FlagSpd - flag (0 or 1), if reconstructed track passes through Spd\n",
    "- FlagPrs - flag (0 or 1), if reconstructed track passes through Prs\n",
    "- FlagBrem - flag (0 or 1), if reconstructed track passes through Brem\n",
    "- FlagEcal - flag (0 or 1), if reconstructed track passes through Ecal\n",
    "- FlagHcal - flag (0 or 1), if reconstructed track passes through Hcal\n",
    "- FlagRICH1 - flag (0 or 1), if reconstructed track passes through the first RICH detector\n",
    "- FlagRICH2 - flag (0 or 1), if reconstructed track passes through the second RICH detector\n",
    "- FlagMuon - flag (0 or 1), if reconstructed track passes through muon stations (Muon)\n",
    "- SpdE - energy deposit associated to the track in the Spd\n",
    "- PrsE - energy deposit associated to the track in the Prs\n",
    "- EcalE - energy deposit associated to the track in the Hcal\n",
    "- HcalE - energy deposit associated to the track in the Hcal\n",
    "- PrsDLLbeElectron - delta log-likelihood for a particle candidate to be electron using information from Prs\n",
    "- BremDLLbeElectron - delta log-likelihood for a particle candidate to be electron using information from Brem\n",
    "- TrackP - particle momentum\n",
    "- TrackPt - particle transverse momentum\n",
    "- TrackNDoFSubdetector1  - number of degrees of freedom for track fit using hits in the tracking sub-detector1\n",
    "- TrackQualitySubdetector1 - chi2 quality of the track fit using hits in the tracking sub-detector1\n",
    "- TrackNDoFSubdetector2 - number of degrees of freedom for track fit using hits in the tracking sub-detector2\n",
    "- TrackQualitySubdetector2 - chi2 quality of the track fit using hits in the  tracking sub-detector2\n",
    "- TrackNDoF - number of degrees of freedom for track fit using hits in all tracking sub-detectors\n",
    "- TrackQualityPerNDoF - chi2 quality of the track fit per degree of freedom\n",
    "- TrackDistanceToZ - distance between track and z-axis (beam axis)\n",
    "- Calo2dFitQuality - quality of the 2d fit of the clusters in the calorimeter \n",
    "- Calo3dFitQuality - quality of the 3d fit in the calorimeter with assumption that particle was electron\n",
    "- EcalDLLbeElectron - delta log-likelihood for a particle candidate to be electron using information from Ecal\n",
    "- EcalDLLbeMuon - delta log-likelihood for a particle candidate to be muon using information from Ecal\n",
    "- EcalShowerLongitudinalParameter - longitudinal parameter of Ecal shower\n",
    "- HcalDLLbeElectron - delta log-likelihood for a particle candidate to be electron using information from Hcal\n",
    "- HcalDLLbeMuon - delta log-likelihood for a particle candidate to be using information from Hcal\n",
    "- RICHpFlagElectron - flag (0 or 1) if momentum is greater than threshold for electrons to produce Cherenkov light\n",
    "- RICHpFlagProton - flag (0 or 1) if momentum is greater than threshold for protons to produce Cherenkov light\n",
    "- RICHpFlagPion - flag (0 or 1) if momentum is greater than threshold for pions to produce Cherenkov light\n",
    "- RICHpFlagKaon - flag (0 or 1) if momentum is greater than threshold for kaons to produce Cherenkov light\n",
    "- RICHpFlagMuon - flag (0 or 1) if momentum is greater than threshold for muons to produce Cherenkov light\n",
    "- RICH_DLLbeBCK  - delta log-likelihood for a particle candidate to be background using information from RICH\n",
    "- RICH_DLLbeKaon - delta log-likelihood for a particle candidate to be kaon using information from RICH\n",
    "- RICH_DLLbeElectron - delta log-likelihood for a particle candidate to be electron using information from RICH\n",
    "- RICH_DLLbeMuon - delta log-likelihood for a particle candidate to be muon using information from RICH\n",
    "- RICH_DLLbeProton - delta log-likelihood for a particle candidate to be proton using information from RICH\n",
    "- MuonFlag - muon flag (is this track muon) which is determined from muon stations\n",
    "- MuonLooseFlag muon flag (is this track muon) which is determined from muon stations using looser criteria\n",
    "- MuonLLbeBCK - log-likelihood for a particle candidate to be not muon using information from muon stations\n",
    "- MuonLLbeMuon - log-likelihood for a particle candidate to be muon using information from muon stations\n",
    "- DLLelectron - delta log-likelihood for a particle candidate to be electron using information from all subdetectors\n",
    "- DLLmuon - delta log-likelihood for a particle candidate to be muon using information from all subdetectors\n",
    "- DLLkaon - delta log-likelihood for a particle candidate to be kaon using information from all subdetectors\n",
    "- DLLproton - delta log-likelihood for a particle candidate to be proton using information from all subdetectors\n",
    "- GhostProbability - probability for a particle candidate to be ghost track. This variable is an output of classification model used in the tracking algorithm."
   ]
  },
  {
   "cell_type": "markdown",
   "metadata": {},
   "source": [
    "### Libraries\n",
    "Importing essential libraries: numpy, pandas, matplotlib and seaborn."
   ]
  },
  {
   "cell_type": "code",
   "execution_count": 1,
   "metadata": {},
   "outputs": [],
   "source": [
    "import numpy as np\n",
    "import pandas as pd\n",
    "\n",
    "import matplotlib.pyplot as plt\n",
    "import seaborn as sns\n",
    "\n",
    "%matplotlib inline"
   ]
  },
  {
   "cell_type": "markdown",
   "metadata": {},
   "source": [
    "### Preview of The Data"
   ]
  },
  {
   "cell_type": "markdown",
   "metadata": {},
   "source": [
    "Importing Monte Carlo dataset."
   ]
  },
  {
   "cell_type": "code",
   "execution_count": 2,
   "metadata": {},
   "outputs": [],
   "source": [
    "df = pd.read_csv('data\\PID-dataset-subsample.csv')"
   ]
  },
  {
   "cell_type": "code",
   "execution_count": 3,
   "metadata": {},
   "outputs": [
    {
     "data": {
      "text/plain": [
       "Index(['TrackP', 'TrackNDoFSubdetector2', 'BremDLLbeElectron', 'MuonLooseFlag',\n",
       "       'FlagSpd', 'SpdE', 'EcalDLLbeElectron', 'DLLmuon', 'RICHpFlagElectron',\n",
       "       'EcalDLLbeMuon', 'TrackQualitySubdetector2', 'FlagPrs', 'DLLelectron',\n",
       "       'DLLkaon', 'EcalE', 'TrackQualityPerNDoF', 'DLLproton',\n",
       "       'PrsDLLbeElectron', 'FlagRICH1', 'MuonLLbeBCK', 'FlagHcal',\n",
       "       'EcalShowerLongitudinalParameter', 'Calo2dFitQuality', 'TrackPt',\n",
       "       'TrackDistanceToZ', 'RICHpFlagPion', 'HcalDLLbeElectron',\n",
       "       'Calo3dFitQuality', 'FlagEcal', 'MuonLLbeMuon', 'TrackNDoFSubdetector1',\n",
       "       'RICHpFlagProton', 'RICHpFlagKaon', 'GhostProbability',\n",
       "       'TrackQualitySubdetector1', 'Label', 'RICH_DLLbeBCK', 'FlagRICH2',\n",
       "       'FlagBrem', 'HcalDLLbeMuon', 'TrackNDoF', 'RICHpFlagMuon',\n",
       "       'RICH_DLLbeKaon', 'RICH_DLLbeElectron', 'HcalE', 'MuonFlag', 'FlagMuon',\n",
       "       'PrsE', 'RICH_DLLbeMuon', 'RICH_DLLbeProton'],\n",
       "      dtype='object')"
      ]
     },
     "execution_count": 3,
     "metadata": {},
     "output_type": "execute_result"
    }
   ],
   "source": [
    "df.columns"
   ]
  },
  {
   "cell_type": "code",
   "execution_count": 4,
   "metadata": {},
   "outputs": [
    {
     "data": {
      "text/html": [
       "<div>\n",
       "<style scoped>\n",
       "    .dataframe tbody tr th:only-of-type {\n",
       "        vertical-align: middle;\n",
       "    }\n",
       "\n",
       "    .dataframe tbody tr th {\n",
       "        vertical-align: top;\n",
       "    }\n",
       "\n",
       "    .dataframe thead th {\n",
       "        text-align: right;\n",
       "    }\n",
       "</style>\n",
       "<table border=\"1\" class=\"dataframe\">\n",
       "  <thead>\n",
       "    <tr style=\"text-align: right;\">\n",
       "      <th></th>\n",
       "      <th>TrackP</th>\n",
       "      <th>TrackNDoFSubdetector2</th>\n",
       "      <th>BremDLLbeElectron</th>\n",
       "      <th>MuonLooseFlag</th>\n",
       "      <th>FlagSpd</th>\n",
       "      <th>SpdE</th>\n",
       "      <th>EcalDLLbeElectron</th>\n",
       "      <th>DLLmuon</th>\n",
       "      <th>RICHpFlagElectron</th>\n",
       "      <th>EcalDLLbeMuon</th>\n",
       "      <th>...</th>\n",
       "      <th>TrackNDoF</th>\n",
       "      <th>RICHpFlagMuon</th>\n",
       "      <th>RICH_DLLbeKaon</th>\n",
       "      <th>RICH_DLLbeElectron</th>\n",
       "      <th>HcalE</th>\n",
       "      <th>MuonFlag</th>\n",
       "      <th>FlagMuon</th>\n",
       "      <th>PrsE</th>\n",
       "      <th>RICH_DLLbeMuon</th>\n",
       "      <th>RICH_DLLbeProton</th>\n",
       "    </tr>\n",
       "  </thead>\n",
       "  <tbody>\n",
       "    <tr>\n",
       "      <th>0</th>\n",
       "      <td>4783.899908</td>\n",
       "      <td>15.0</td>\n",
       "      <td>0.992629</td>\n",
       "      <td>1.0</td>\n",
       "      <td>1.0</td>\n",
       "      <td>3.2</td>\n",
       "      <td>-0.753252</td>\n",
       "      <td>5.095674</td>\n",
       "      <td>1.0</td>\n",
       "      <td>-0.744993</td>\n",
       "      <td>...</td>\n",
       "      <td>25.0</td>\n",
       "      <td>1.0</td>\n",
       "      <td>-0.272898</td>\n",
       "      <td>-9.828998</td>\n",
       "      <td>23413.300773</td>\n",
       "      <td>1.0</td>\n",
       "      <td>1.0</td>\n",
       "      <td>0.000011</td>\n",
       "      <td>12.092303</td>\n",
       "      <td>-2.605698</td>\n",
       "    </tr>\n",
       "    <tr>\n",
       "      <th>1</th>\n",
       "      <td>21113.160174</td>\n",
       "      <td>16.0</td>\n",
       "      <td>-0.454772</td>\n",
       "      <td>1.0</td>\n",
       "      <td>1.0</td>\n",
       "      <td>3.2</td>\n",
       "      <td>-3.027843</td>\n",
       "      <td>14.091743</td>\n",
       "      <td>1.0</td>\n",
       "      <td>1.282079</td>\n",
       "      <td>...</td>\n",
       "      <td>28.0</td>\n",
       "      <td>1.0</td>\n",
       "      <td>-78.682187</td>\n",
       "      <td>8.813811</td>\n",
       "      <td>1612.774429</td>\n",
       "      <td>1.0</td>\n",
       "      <td>1.0</td>\n",
       "      <td>2.742716</td>\n",
       "      <td>4.840911</td>\n",
       "      <td>-53.067288</td>\n",
       "    </tr>\n",
       "    <tr>\n",
       "      <th>2</th>\n",
       "      <td>2004.359973</td>\n",
       "      <td>14.0</td>\n",
       "      <td>-0.060743</td>\n",
       "      <td>0.0</td>\n",
       "      <td>1.0</td>\n",
       "      <td>0.0</td>\n",
       "      <td>-2.723425</td>\n",
       "      <td>-0.000016</td>\n",
       "      <td>1.0</td>\n",
       "      <td>0.107044</td>\n",
       "      <td>...</td>\n",
       "      <td>27.0</td>\n",
       "      <td>0.0</td>\n",
       "      <td>-0.017021</td>\n",
       "      <td>-33.895621</td>\n",
       "      <td>-999.000000</td>\n",
       "      <td>0.0</td>\n",
       "      <td>0.0</td>\n",
       "      <td>0.000019</td>\n",
       "      <td>-0.000021</td>\n",
       "      <td>-0.000021</td>\n",
       "    </tr>\n",
       "    <tr>\n",
       "      <th>3</th>\n",
       "      <td>12877.429683</td>\n",
       "      <td>14.0</td>\n",
       "      <td>-0.638981</td>\n",
       "      <td>0.0</td>\n",
       "      <td>1.0</td>\n",
       "      <td>3.2</td>\n",
       "      <td>-3.283638</td>\n",
       "      <td>4.084645</td>\n",
       "      <td>1.0</td>\n",
       "      <td>0.079914</td>\n",
       "      <td>...</td>\n",
       "      <td>29.0</td>\n",
       "      <td>1.0</td>\n",
       "      <td>13.235793</td>\n",
       "      <td>9.094493</td>\n",
       "      <td>3562.783455</td>\n",
       "      <td>0.0</td>\n",
       "      <td>1.0</td>\n",
       "      <td>1.645638</td>\n",
       "      <td>1.392493</td>\n",
       "      <td>26.947293</td>\n",
       "    </tr>\n",
       "    <tr>\n",
       "      <th>4</th>\n",
       "      <td>73979.062493</td>\n",
       "      <td>18.0</td>\n",
       "      <td>0.484596</td>\n",
       "      <td>1.0</td>\n",
       "      <td>1.0</td>\n",
       "      <td>3.2</td>\n",
       "      <td>-2.441371</td>\n",
       "      <td>8.700628</td>\n",
       "      <td>1.0</td>\n",
       "      <td>0.936483</td>\n",
       "      <td>...</td>\n",
       "      <td>36.0</td>\n",
       "      <td>1.0</td>\n",
       "      <td>-2.929998</td>\n",
       "      <td>0.781402</td>\n",
       "      <td>2286.271726</td>\n",
       "      <td>1.0</td>\n",
       "      <td>1.0</td>\n",
       "      <td>2.742734</td>\n",
       "      <td>0.433102</td>\n",
       "      <td>0.430202</td>\n",
       "    </tr>\n",
       "  </tbody>\n",
       "</table>\n",
       "<p>5 rows × 50 columns</p>\n",
       "</div>"
      ],
      "text/plain": [
       "         TrackP  TrackNDoFSubdetector2  BremDLLbeElectron  MuonLooseFlag  \\\n",
       "0   4783.899908                   15.0           0.992629            1.0   \n",
       "1  21113.160174                   16.0          -0.454772            1.0   \n",
       "2   2004.359973                   14.0          -0.060743            0.0   \n",
       "3  12877.429683                   14.0          -0.638981            0.0   \n",
       "4  73979.062493                   18.0           0.484596            1.0   \n",
       "\n",
       "   FlagSpd  SpdE  EcalDLLbeElectron    DLLmuon  RICHpFlagElectron  \\\n",
       "0      1.0   3.2          -0.753252   5.095674                1.0   \n",
       "1      1.0   3.2          -3.027843  14.091743                1.0   \n",
       "2      1.0   0.0          -2.723425  -0.000016                1.0   \n",
       "3      1.0   3.2          -3.283638   4.084645                1.0   \n",
       "4      1.0   3.2          -2.441371   8.700628                1.0   \n",
       "\n",
       "   EcalDLLbeMuon  ...  TrackNDoF  RICHpFlagMuon  RICH_DLLbeKaon  \\\n",
       "0      -0.744993  ...       25.0            1.0       -0.272898   \n",
       "1       1.282079  ...       28.0            1.0      -78.682187   \n",
       "2       0.107044  ...       27.0            0.0       -0.017021   \n",
       "3       0.079914  ...       29.0            1.0       13.235793   \n",
       "4       0.936483  ...       36.0            1.0       -2.929998   \n",
       "\n",
       "   RICH_DLLbeElectron         HcalE  MuonFlag  FlagMuon      PrsE  \\\n",
       "0           -9.828998  23413.300773       1.0       1.0  0.000011   \n",
       "1            8.813811   1612.774429       1.0       1.0  2.742716   \n",
       "2          -33.895621   -999.000000       0.0       0.0  0.000019   \n",
       "3            9.094493   3562.783455       0.0       1.0  1.645638   \n",
       "4            0.781402   2286.271726       1.0       1.0  2.742734   \n",
       "\n",
       "   RICH_DLLbeMuon  RICH_DLLbeProton  \n",
       "0       12.092303         -2.605698  \n",
       "1        4.840911        -53.067288  \n",
       "2       -0.000021         -0.000021  \n",
       "3        1.392493         26.947293  \n",
       "4        0.433102          0.430202  \n",
       "\n",
       "[5 rows x 50 columns]"
      ]
     },
     "execution_count": 4,
     "metadata": {},
     "output_type": "execute_result"
    }
   ],
   "source": [
    "df.head()"
   ]
  },
  {
   "cell_type": "code",
   "execution_count": 5,
   "metadata": {},
   "outputs": [
    {
     "name": "stdout",
     "output_type": "stream",
     "text": [
      "<class 'pandas.core.frame.DataFrame'>\n",
      "RangeIndex: 60000 entries, 0 to 59999\n",
      "Data columns (total 50 columns):\n",
      " #   Column                           Non-Null Count  Dtype  \n",
      "---  ------                           --------------  -----  \n",
      " 0   TrackP                           60000 non-null  float64\n",
      " 1   TrackNDoFSubdetector2            60000 non-null  float64\n",
      " 2   BremDLLbeElectron                60000 non-null  float64\n",
      " 3   MuonLooseFlag                    60000 non-null  float64\n",
      " 4   FlagSpd                          60000 non-null  float64\n",
      " 5   SpdE                             60000 non-null  float64\n",
      " 6   EcalDLLbeElectron                60000 non-null  float64\n",
      " 7   DLLmuon                          60000 non-null  float64\n",
      " 8   RICHpFlagElectron                60000 non-null  float64\n",
      " 9   EcalDLLbeMuon                    60000 non-null  float64\n",
      " 10  TrackQualitySubdetector2         60000 non-null  float64\n",
      " 11  FlagPrs                          60000 non-null  float64\n",
      " 12  DLLelectron                      60000 non-null  float64\n",
      " 13  DLLkaon                          60000 non-null  float64\n",
      " 14  EcalE                            60000 non-null  float64\n",
      " 15  TrackQualityPerNDoF              60000 non-null  float64\n",
      " 16  DLLproton                        60000 non-null  float64\n",
      " 17  PrsDLLbeElectron                 60000 non-null  float64\n",
      " 18  FlagRICH1                        60000 non-null  float64\n",
      " 19  MuonLLbeBCK                      60000 non-null  float64\n",
      " 20  FlagHcal                         60000 non-null  float64\n",
      " 21  EcalShowerLongitudinalParameter  60000 non-null  float64\n",
      " 22  Calo2dFitQuality                 60000 non-null  float64\n",
      " 23  TrackPt                          60000 non-null  float64\n",
      " 24  TrackDistanceToZ                 60000 non-null  float64\n",
      " 25  RICHpFlagPion                    60000 non-null  float64\n",
      " 26  HcalDLLbeElectron                60000 non-null  float64\n",
      " 27  Calo3dFitQuality                 60000 non-null  float64\n",
      " 28  FlagEcal                         60000 non-null  float64\n",
      " 29  MuonLLbeMuon                     60000 non-null  float64\n",
      " 30  TrackNDoFSubdetector1            60000 non-null  float64\n",
      " 31  RICHpFlagProton                  60000 non-null  float64\n",
      " 32  RICHpFlagKaon                    60000 non-null  float64\n",
      " 33  GhostProbability                 60000 non-null  float64\n",
      " 34  TrackQualitySubdetector1         60000 non-null  float64\n",
      " 35  Label                            60000 non-null  object \n",
      " 36  RICH_DLLbeBCK                    60000 non-null  float64\n",
      " 37  FlagRICH2                        60000 non-null  float64\n",
      " 38  FlagBrem                         60000 non-null  float64\n",
      " 39  HcalDLLbeMuon                    60000 non-null  float64\n",
      " 40  TrackNDoF                        60000 non-null  float64\n",
      " 41  RICHpFlagMuon                    60000 non-null  float64\n",
      " 42  RICH_DLLbeKaon                   60000 non-null  float64\n",
      " 43  RICH_DLLbeElectron               60000 non-null  float64\n",
      " 44  HcalE                            60000 non-null  float64\n",
      " 45  MuonFlag                         60000 non-null  float64\n",
      " 46  FlagMuon                         60000 non-null  float64\n",
      " 47  PrsE                             60000 non-null  float64\n",
      " 48  RICH_DLLbeMuon                   60000 non-null  float64\n",
      " 49  RICH_DLLbeProton                 60000 non-null  float64\n",
      "dtypes: float64(49), object(1)\n",
      "memory usage: 22.9+ MB\n"
     ]
    }
   ],
   "source": [
    "df.info()"
   ]
  },
  {
   "cell_type": "code",
   "execution_count": 6,
   "metadata": {},
   "outputs": [
    {
     "data": {
      "text/html": [
       "<div>\n",
       "<style scoped>\n",
       "    .dataframe tbody tr th:only-of-type {\n",
       "        vertical-align: middle;\n",
       "    }\n",
       "\n",
       "    .dataframe tbody tr th {\n",
       "        vertical-align: top;\n",
       "    }\n",
       "\n",
       "    .dataframe thead th {\n",
       "        text-align: right;\n",
       "    }\n",
       "</style>\n",
       "<table border=\"1\" class=\"dataframe\">\n",
       "  <thead>\n",
       "    <tr style=\"text-align: right;\">\n",
       "      <th></th>\n",
       "      <th>count</th>\n",
       "      <th>mean</th>\n",
       "      <th>std</th>\n",
       "      <th>min</th>\n",
       "      <th>25%</th>\n",
       "      <th>50%</th>\n",
       "      <th>75%</th>\n",
       "      <th>max</th>\n",
       "    </tr>\n",
       "  </thead>\n",
       "  <tbody>\n",
       "    <tr>\n",
       "      <th>TrackP</th>\n",
       "      <td>60000.0</td>\n",
       "      <td>16158.886431</td>\n",
       "      <td>27736.422398</td>\n",
       "      <td>1209.110000</td>\n",
       "      <td>4149.994995</td>\n",
       "      <td>8.082305e+03</td>\n",
       "      <td>17513.435045</td>\n",
       "      <td>2.427606e+06</td>\n",
       "    </tr>\n",
       "    <tr>\n",
       "      <th>TrackNDoFSubdetector2</th>\n",
       "      <td>60000.0</td>\n",
       "      <td>14.718950</td>\n",
       "      <td>4.061609</td>\n",
       "      <td>1.000000</td>\n",
       "      <td>13.000000</td>\n",
       "      <td>1.600000e+01</td>\n",
       "      <td>18.000000</td>\n",
       "      <td>2.700000e+01</td>\n",
       "    </tr>\n",
       "    <tr>\n",
       "      <th>BremDLLbeElectron</th>\n",
       "      <td>60000.0</td>\n",
       "      <td>-210.732368</td>\n",
       "      <td>407.603283</td>\n",
       "      <td>-999.000000</td>\n",
       "      <td>-0.638962</td>\n",
       "      <td>-5.423956e-01</td>\n",
       "      <td>-0.068678</td>\n",
       "      <td>4.791513e+00</td>\n",
       "    </tr>\n",
       "    <tr>\n",
       "      <th>MuonLooseFlag</th>\n",
       "      <td>60000.0</td>\n",
       "      <td>0.191417</td>\n",
       "      <td>0.393420</td>\n",
       "      <td>0.000000</td>\n",
       "      <td>0.000000</td>\n",
       "      <td>0.000000e+00</td>\n",
       "      <td>0.000000</td>\n",
       "      <td>1.000000e+00</td>\n",
       "    </tr>\n",
       "    <tr>\n",
       "      <th>FlagSpd</th>\n",
       "      <td>60000.0</td>\n",
       "      <td>0.852467</td>\n",
       "      <td>0.354640</td>\n",
       "      <td>0.000000</td>\n",
       "      <td>1.000000</td>\n",
       "      <td>1.000000e+00</td>\n",
       "      <td>1.000000</td>\n",
       "      <td>1.000000e+00</td>\n",
       "    </tr>\n",
       "    <tr>\n",
       "      <th>SpdE</th>\n",
       "      <td>60000.0</td>\n",
       "      <td>-145.235950</td>\n",
       "      <td>355.345921</td>\n",
       "      <td>-999.000000</td>\n",
       "      <td>0.000000</td>\n",
       "      <td>3.200000e+00</td>\n",
       "      <td>3.200000</td>\n",
       "      <td>3.200000e+00</td>\n",
       "    </tr>\n",
       "    <tr>\n",
       "      <th>EcalDLLbeElectron</th>\n",
       "      <td>60000.0</td>\n",
       "      <td>-183.960840</td>\n",
       "      <td>386.413286</td>\n",
       "      <td>-999.000000</td>\n",
       "      <td>-3.000643</td>\n",
       "      <td>-2.312398e+00</td>\n",
       "      <td>0.591859</td>\n",
       "      <td>4.341276e+00</td>\n",
       "    </tr>\n",
       "    <tr>\n",
       "      <th>DLLmuon</th>\n",
       "      <td>60000.0</td>\n",
       "      <td>-12.833432</td>\n",
       "      <td>105.642965</td>\n",
       "      <td>-999.000000</td>\n",
       "      <td>-5.719371</td>\n",
       "      <td>-1.979914e+00</td>\n",
       "      <td>1.671562</td>\n",
       "      <td>1.450883e+01</td>\n",
       "    </tr>\n",
       "    <tr>\n",
       "      <th>RICHpFlagElectron</th>\n",
       "      <td>60000.0</td>\n",
       "      <td>0.950233</td>\n",
       "      <td>0.217464</td>\n",
       "      <td>0.000000</td>\n",
       "      <td>1.000000</td>\n",
       "      <td>1.000000e+00</td>\n",
       "      <td>1.000000</td>\n",
       "      <td>1.000000e+00</td>\n",
       "    </tr>\n",
       "    <tr>\n",
       "      <th>EcalDLLbeMuon</th>\n",
       "      <td>60000.0</td>\n",
       "      <td>-184.139531</td>\n",
       "      <td>386.326632</td>\n",
       "      <td>-999.000000</td>\n",
       "      <td>-3.367627</td>\n",
       "      <td>-1.956076e+00</td>\n",
       "      <td>0.397512</td>\n",
       "      <td>2.153012e+00</td>\n",
       "    </tr>\n",
       "    <tr>\n",
       "      <th>TrackQualitySubdetector2</th>\n",
       "      <td>60000.0</td>\n",
       "      <td>16.081157</td>\n",
       "      <td>7.840492</td>\n",
       "      <td>0.057001</td>\n",
       "      <td>10.654799</td>\n",
       "      <td>1.521950e+01</td>\n",
       "      <td>20.384970</td>\n",
       "      <td>1.048634e+02</td>\n",
       "    </tr>\n",
       "    <tr>\n",
       "      <th>FlagPrs</th>\n",
       "      <td>60000.0</td>\n",
       "      <td>0.850317</td>\n",
       "      <td>0.356764</td>\n",
       "      <td>0.000000</td>\n",
       "      <td>1.000000</td>\n",
       "      <td>1.000000e+00</td>\n",
       "      <td>1.000000</td>\n",
       "      <td>1.000000e+00</td>\n",
       "    </tr>\n",
       "    <tr>\n",
       "      <th>DLLelectron</th>\n",
       "      <td>60000.0</td>\n",
       "      <td>-14.176132</td>\n",
       "      <td>105.510372</td>\n",
       "      <td>-999.000000</td>\n",
       "      <td>-7.044365</td>\n",
       "      <td>-4.377571e+00</td>\n",
       "      <td>0.004246</td>\n",
       "      <td>1.694693e+01</td>\n",
       "    </tr>\n",
       "    <tr>\n",
       "      <th>DLLkaon</th>\n",
       "      <td>60000.0</td>\n",
       "      <td>-14.689824</td>\n",
       "      <td>108.167216</td>\n",
       "      <td>-999.000000</td>\n",
       "      <td>-10.509772</td>\n",
       "      <td>3.324473e-06</td>\n",
       "      <td>8.490048</td>\n",
       "      <td>1.263247e+02</td>\n",
       "    </tr>\n",
       "    <tr>\n",
       "      <th>EcalE</th>\n",
       "      <td>60000.0</td>\n",
       "      <td>2314.399585</td>\n",
       "      <td>5556.237938</td>\n",
       "      <td>-999.000000</td>\n",
       "      <td>-0.000003</td>\n",
       "      <td>6.671250e+02</td>\n",
       "      <td>3013.837099</td>\n",
       "      <td>2.288119e+05</td>\n",
       "    </tr>\n",
       "    <tr>\n",
       "      <th>TrackQualityPerNDoF</th>\n",
       "      <td>60000.0</td>\n",
       "      <td>1.284376</td>\n",
       "      <td>0.627475</td>\n",
       "      <td>0.143580</td>\n",
       "      <td>0.885437</td>\n",
       "      <td>1.109205e+00</td>\n",
       "      <td>1.449416</td>\n",
       "      <td>3.999409e+00</td>\n",
       "    </tr>\n",
       "    <tr>\n",
       "      <th>DLLproton</th>\n",
       "      <td>60000.0</td>\n",
       "      <td>-15.035010</td>\n",
       "      <td>108.117371</td>\n",
       "      <td>-999.000000</td>\n",
       "      <td>-11.868855</td>\n",
       "      <td>2.092053e-06</td>\n",
       "      <td>8.901348</td>\n",
       "      <td>1.261731e+02</td>\n",
       "    </tr>\n",
       "    <tr>\n",
       "      <th>PrsDLLbeElectron</th>\n",
       "      <td>60000.0</td>\n",
       "      <td>-150.844751</td>\n",
       "      <td>355.791116</td>\n",
       "      <td>-999.000000</td>\n",
       "      <td>-3.062683</td>\n",
       "      <td>-2.730655e+00</td>\n",
       "      <td>-1.333544</td>\n",
       "      <td>3.463159e+00</td>\n",
       "    </tr>\n",
       "    <tr>\n",
       "      <th>FlagRICH1</th>\n",
       "      <td>60000.0</td>\n",
       "      <td>0.829800</td>\n",
       "      <td>0.375812</td>\n",
       "      <td>0.000000</td>\n",
       "      <td>1.000000</td>\n",
       "      <td>1.000000e+00</td>\n",
       "      <td>1.000000</td>\n",
       "      <td>1.000000e+00</td>\n",
       "    </tr>\n",
       "    <tr>\n",
       "      <th>MuonLLbeBCK</th>\n",
       "      <td>60000.0</td>\n",
       "      <td>-808.309896</td>\n",
       "      <td>391.842778</td>\n",
       "      <td>-999.000000</td>\n",
       "      <td>-999.000000</td>\n",
       "      <td>-9.990000e+02</td>\n",
       "      <td>-999.000000</td>\n",
       "      <td>1.388956e-02</td>\n",
       "    </tr>\n",
       "    <tr>\n",
       "      <th>FlagHcal</th>\n",
       "      <td>60000.0</td>\n",
       "      <td>0.764267</td>\n",
       "      <td>0.424460</td>\n",
       "      <td>0.000000</td>\n",
       "      <td>1.000000</td>\n",
       "      <td>1.000000e+00</td>\n",
       "      <td>1.000000</td>\n",
       "      <td>1.000000e+00</td>\n",
       "    </tr>\n",
       "    <tr>\n",
       "      <th>EcalShowerLongitudinalParameter</th>\n",
       "      <td>60000.0</td>\n",
       "      <td>-457.485874</td>\n",
       "      <td>5036.187591</td>\n",
       "      <td>-304661.031265</td>\n",
       "      <td>-999.000000</td>\n",
       "      <td>-2.964784e+02</td>\n",
       "      <td>156.520021</td>\n",
       "      <td>1.161838e+05</td>\n",
       "    </tr>\n",
       "    <tr>\n",
       "      <th>Calo2dFitQuality</th>\n",
       "      <td>60000.0</td>\n",
       "      <td>-168.708842</td>\n",
       "      <td>397.488498</td>\n",
       "      <td>-999.000000</td>\n",
       "      <td>0.092701</td>\n",
       "      <td>7.973508e-01</td>\n",
       "      <td>4.337247</td>\n",
       "      <td>9.984028e+02</td>\n",
       "    </tr>\n",
       "    <tr>\n",
       "      <th>TrackPt</th>\n",
       "      <td>60000.0</td>\n",
       "      <td>922.122995</td>\n",
       "      <td>1808.902782</td>\n",
       "      <td>1.447011</td>\n",
       "      <td>266.671757</td>\n",
       "      <td>5.442110e+02</td>\n",
       "      <td>1103.227577</td>\n",
       "      <td>3.231642e+05</td>\n",
       "    </tr>\n",
       "    <tr>\n",
       "      <th>TrackDistanceToZ</th>\n",
       "      <td>60000.0</td>\n",
       "      <td>0.674847</td>\n",
       "      <td>1.256524</td>\n",
       "      <td>0.000003</td>\n",
       "      <td>0.282049</td>\n",
       "      <td>5.145248e-01</td>\n",
       "      <td>0.693008</td>\n",
       "      <td>3.809808e+01</td>\n",
       "    </tr>\n",
       "    <tr>\n",
       "      <th>RICHpFlagPion</th>\n",
       "      <td>60000.0</td>\n",
       "      <td>0.859550</td>\n",
       "      <td>0.347456</td>\n",
       "      <td>0.000000</td>\n",
       "      <td>1.000000</td>\n",
       "      <td>1.000000e+00</td>\n",
       "      <td>1.000000</td>\n",
       "      <td>1.000000e+00</td>\n",
       "    </tr>\n",
       "    <tr>\n",
       "      <th>HcalDLLbeElectron</th>\n",
       "      <td>60000.0</td>\n",
       "      <td>-236.023200</td>\n",
       "      <td>423.842195</td>\n",
       "      <td>-999.000000</td>\n",
       "      <td>-1.926179</td>\n",
       "      <td>-1.125039e+00</td>\n",
       "      <td>-0.117394</td>\n",
       "      <td>2.486400e+00</td>\n",
       "    </tr>\n",
       "    <tr>\n",
       "      <th>Calo3dFitQuality</th>\n",
       "      <td>60000.0</td>\n",
       "      <td>994.796235</td>\n",
       "      <td>2398.538971</td>\n",
       "      <td>-999.000000</td>\n",
       "      <td>-999.000000</td>\n",
       "      <td>1.297538e+02</td>\n",
       "      <td>1639.901253</td>\n",
       "      <td>9.999831e+03</td>\n",
       "    </tr>\n",
       "    <tr>\n",
       "      <th>FlagEcal</th>\n",
       "      <td>60000.0</td>\n",
       "      <td>0.817167</td>\n",
       "      <td>0.386533</td>\n",
       "      <td>0.000000</td>\n",
       "      <td>1.000000</td>\n",
       "      <td>1.000000e+00</td>\n",
       "      <td>1.000000</td>\n",
       "      <td>1.000000e+00</td>\n",
       "    </tr>\n",
       "    <tr>\n",
       "      <th>MuonLLbeMuon</th>\n",
       "      <td>60000.0</td>\n",
       "      <td>-807.855597</td>\n",
       "      <td>392.775553</td>\n",
       "      <td>-999.000000</td>\n",
       "      <td>-999.000000</td>\n",
       "      <td>-9.990000e+02</td>\n",
       "      <td>-999.000000</td>\n",
       "      <td>3.193627e-05</td>\n",
       "    </tr>\n",
       "    <tr>\n",
       "      <th>TrackNDoFSubdetector1</th>\n",
       "      <td>60000.0</td>\n",
       "      <td>6.176567</td>\n",
       "      <td>3.109397</td>\n",
       "      <td>1.000000</td>\n",
       "      <td>4.000000</td>\n",
       "      <td>6.000000e+00</td>\n",
       "      <td>8.000000</td>\n",
       "      <td>2.000000e+01</td>\n",
       "    </tr>\n",
       "    <tr>\n",
       "      <th>RICHpFlagProton</th>\n",
       "      <td>60000.0</td>\n",
       "      <td>0.209583</td>\n",
       "      <td>0.407015</td>\n",
       "      <td>0.000000</td>\n",
       "      <td>0.000000</td>\n",
       "      <td>0.000000e+00</td>\n",
       "      <td>0.000000</td>\n",
       "      <td>1.000000e+00</td>\n",
       "    </tr>\n",
       "    <tr>\n",
       "      <th>RICHpFlagKaon</th>\n",
       "      <td>60000.0</td>\n",
       "      <td>0.407000</td>\n",
       "      <td>0.491279</td>\n",
       "      <td>0.000000</td>\n",
       "      <td>0.000000</td>\n",
       "      <td>0.000000e+00</td>\n",
       "      <td>1.000000</td>\n",
       "      <td>1.000000e+00</td>\n",
       "    </tr>\n",
       "    <tr>\n",
       "      <th>GhostProbability</th>\n",
       "      <td>60000.0</td>\n",
       "      <td>0.055568</td>\n",
       "      <td>0.093146</td>\n",
       "      <td>0.001501</td>\n",
       "      <td>0.003861</td>\n",
       "      <td>9.671491e-03</td>\n",
       "      <td>0.054494</td>\n",
       "      <td>3.999745e-01</td>\n",
       "    </tr>\n",
       "    <tr>\n",
       "      <th>TrackQualitySubdetector1</th>\n",
       "      <td>60000.0</td>\n",
       "      <td>6.808903</td>\n",
       "      <td>5.080755</td>\n",
       "      <td>0.000230</td>\n",
       "      <td>3.059388</td>\n",
       "      <td>5.801416e+00</td>\n",
       "      <td>9.434483</td>\n",
       "      <td>7.422336e+01</td>\n",
       "    </tr>\n",
       "    <tr>\n",
       "      <th>RICH_DLLbeBCK</th>\n",
       "      <td>60000.0</td>\n",
       "      <td>-52.176104</td>\n",
       "      <td>215.556580</td>\n",
       "      <td>-999.000000</td>\n",
       "      <td>-16.015194</td>\n",
       "      <td>-2.048819e-06</td>\n",
       "      <td>8.750270</td>\n",
       "      <td>6.838960e+01</td>\n",
       "    </tr>\n",
       "    <tr>\n",
       "      <th>FlagRICH2</th>\n",
       "      <td>60000.0</td>\n",
       "      <td>0.503550</td>\n",
       "      <td>0.499992</td>\n",
       "      <td>0.000000</td>\n",
       "      <td>0.000000</td>\n",
       "      <td>1.000000e+00</td>\n",
       "      <td>1.000000</td>\n",
       "      <td>1.000000e+00</td>\n",
       "    </tr>\n",
       "    <tr>\n",
       "      <th>FlagBrem</th>\n",
       "      <td>60000.0</td>\n",
       "      <td>0.789433</td>\n",
       "      <td>0.407715</td>\n",
       "      <td>0.000000</td>\n",
       "      <td>1.000000</td>\n",
       "      <td>1.000000e+00</td>\n",
       "      <td>1.000000</td>\n",
       "      <td>1.000000e+00</td>\n",
       "    </tr>\n",
       "    <tr>\n",
       "      <th>HcalDLLbeMuon</th>\n",
       "      <td>60000.0</td>\n",
       "      <td>-236.154780</td>\n",
       "      <td>423.770593</td>\n",
       "      <td>-999.000000</td>\n",
       "      <td>-3.027635</td>\n",
       "      <td>-1.792457e+00</td>\n",
       "      <td>0.152087</td>\n",
       "      <td>2.873414e+00</td>\n",
       "    </tr>\n",
       "    <tr>\n",
       "      <th>TrackNDoF</th>\n",
       "      <td>60000.0</td>\n",
       "      <td>29.372400</td>\n",
       "      <td>6.057642</td>\n",
       "      <td>8.000000</td>\n",
       "      <td>26.000000</td>\n",
       "      <td>3.000000e+01</td>\n",
       "      <td>34.000000</td>\n",
       "      <td>5.000000e+01</td>\n",
       "    </tr>\n",
       "    <tr>\n",
       "      <th>RICHpFlagMuon</th>\n",
       "      <td>60000.0</td>\n",
       "      <td>0.918600</td>\n",
       "      <td>0.273451</td>\n",
       "      <td>0.000000</td>\n",
       "      <td>1.000000</td>\n",
       "      <td>1.000000e+00</td>\n",
       "      <td>1.000000</td>\n",
       "      <td>1.000000e+00</td>\n",
       "    </tr>\n",
       "    <tr>\n",
       "      <th>RICH_DLLbeKaon</th>\n",
       "      <td>60000.0</td>\n",
       "      <td>-52.092646</td>\n",
       "      <td>215.735221</td>\n",
       "      <td>-999.000000</td>\n",
       "      <td>-14.563115</td>\n",
       "      <td>-5.431636e-07</td>\n",
       "      <td>8.472179</td>\n",
       "      <td>1.211629e+02</td>\n",
       "    </tr>\n",
       "    <tr>\n",
       "      <th>RICH_DLLbeElectron</th>\n",
       "      <td>60000.0</td>\n",
       "      <td>-51.157666</td>\n",
       "      <td>215.516177</td>\n",
       "      <td>-999.000000</td>\n",
       "      <td>-13.080626</td>\n",
       "      <td>-2.325305e+00</td>\n",
       "      <td>1.720236</td>\n",
       "      <td>1.647944e+02</td>\n",
       "    </tr>\n",
       "    <tr>\n",
       "      <th>HcalE</th>\n",
       "      <td>60000.0</td>\n",
       "      <td>2903.586469</td>\n",
       "      <td>7781.605352</td>\n",
       "      <td>-999.000000</td>\n",
       "      <td>-0.000015</td>\n",
       "      <td>5.634407e+02</td>\n",
       "      <td>3044.185053</td>\n",
       "      <td>4.258875e+05</td>\n",
       "    </tr>\n",
       "    <tr>\n",
       "      <th>MuonFlag</th>\n",
       "      <td>60000.0</td>\n",
       "      <td>0.165800</td>\n",
       "      <td>0.371904</td>\n",
       "      <td>0.000000</td>\n",
       "      <td>0.000000</td>\n",
       "      <td>0.000000e+00</td>\n",
       "      <td>0.000000</td>\n",
       "      <td>1.000000e+00</td>\n",
       "    </tr>\n",
       "    <tr>\n",
       "      <th>FlagMuon</th>\n",
       "      <td>60000.0</td>\n",
       "      <td>0.820900</td>\n",
       "      <td>0.383439</td>\n",
       "      <td>0.000000</td>\n",
       "      <td>1.000000</td>\n",
       "      <td>1.000000e+00</td>\n",
       "      <td>1.000000</td>\n",
       "      <td>1.000000e+00</td>\n",
       "    </tr>\n",
       "    <tr>\n",
       "      <th>PrsE</th>\n",
       "      <td>60000.0</td>\n",
       "      <td>-135.011308</td>\n",
       "      <td>363.647524</td>\n",
       "      <td>-999.000000</td>\n",
       "      <td>0.000009</td>\n",
       "      <td>2.468448e+00</td>\n",
       "      <td>8.502419</td>\n",
       "      <td>2.805800e+02</td>\n",
       "    </tr>\n",
       "    <tr>\n",
       "      <th>RICH_DLLbeMuon</th>\n",
       "      <td>60000.0</td>\n",
       "      <td>-49.380463</td>\n",
       "      <td>215.184459</td>\n",
       "      <td>-999.000000</td>\n",
       "      <td>-4.510306</td>\n",
       "      <td>-4.713872e-01</td>\n",
       "      <td>1.296422</td>\n",
       "      <td>1.371855e+02</td>\n",
       "    </tr>\n",
       "    <tr>\n",
       "      <th>RICH_DLLbeProton</th>\n",
       "      <td>60000.0</td>\n",
       "      <td>-52.402593</td>\n",
       "      <td>215.669601</td>\n",
       "      <td>-999.000000</td>\n",
       "      <td>-16.140881</td>\n",
       "      <td>-2.452546e-06</td>\n",
       "      <td>8.963707</td>\n",
       "      <td>1.337011e+02</td>\n",
       "    </tr>\n",
       "  </tbody>\n",
       "</table>\n",
       "</div>"
      ],
      "text/plain": [
       "                                   count          mean           std  \\\n",
       "TrackP                           60000.0  16158.886431  27736.422398   \n",
       "TrackNDoFSubdetector2            60000.0     14.718950      4.061609   \n",
       "BremDLLbeElectron                60000.0   -210.732368    407.603283   \n",
       "MuonLooseFlag                    60000.0      0.191417      0.393420   \n",
       "FlagSpd                          60000.0      0.852467      0.354640   \n",
       "SpdE                             60000.0   -145.235950    355.345921   \n",
       "EcalDLLbeElectron                60000.0   -183.960840    386.413286   \n",
       "DLLmuon                          60000.0    -12.833432    105.642965   \n",
       "RICHpFlagElectron                60000.0      0.950233      0.217464   \n",
       "EcalDLLbeMuon                    60000.0   -184.139531    386.326632   \n",
       "TrackQualitySubdetector2         60000.0     16.081157      7.840492   \n",
       "FlagPrs                          60000.0      0.850317      0.356764   \n",
       "DLLelectron                      60000.0    -14.176132    105.510372   \n",
       "DLLkaon                          60000.0    -14.689824    108.167216   \n",
       "EcalE                            60000.0   2314.399585   5556.237938   \n",
       "TrackQualityPerNDoF              60000.0      1.284376      0.627475   \n",
       "DLLproton                        60000.0    -15.035010    108.117371   \n",
       "PrsDLLbeElectron                 60000.0   -150.844751    355.791116   \n",
       "FlagRICH1                        60000.0      0.829800      0.375812   \n",
       "MuonLLbeBCK                      60000.0   -808.309896    391.842778   \n",
       "FlagHcal                         60000.0      0.764267      0.424460   \n",
       "EcalShowerLongitudinalParameter  60000.0   -457.485874   5036.187591   \n",
       "Calo2dFitQuality                 60000.0   -168.708842    397.488498   \n",
       "TrackPt                          60000.0    922.122995   1808.902782   \n",
       "TrackDistanceToZ                 60000.0      0.674847      1.256524   \n",
       "RICHpFlagPion                    60000.0      0.859550      0.347456   \n",
       "HcalDLLbeElectron                60000.0   -236.023200    423.842195   \n",
       "Calo3dFitQuality                 60000.0    994.796235   2398.538971   \n",
       "FlagEcal                         60000.0      0.817167      0.386533   \n",
       "MuonLLbeMuon                     60000.0   -807.855597    392.775553   \n",
       "TrackNDoFSubdetector1            60000.0      6.176567      3.109397   \n",
       "RICHpFlagProton                  60000.0      0.209583      0.407015   \n",
       "RICHpFlagKaon                    60000.0      0.407000      0.491279   \n",
       "GhostProbability                 60000.0      0.055568      0.093146   \n",
       "TrackQualitySubdetector1         60000.0      6.808903      5.080755   \n",
       "RICH_DLLbeBCK                    60000.0    -52.176104    215.556580   \n",
       "FlagRICH2                        60000.0      0.503550      0.499992   \n",
       "FlagBrem                         60000.0      0.789433      0.407715   \n",
       "HcalDLLbeMuon                    60000.0   -236.154780    423.770593   \n",
       "TrackNDoF                        60000.0     29.372400      6.057642   \n",
       "RICHpFlagMuon                    60000.0      0.918600      0.273451   \n",
       "RICH_DLLbeKaon                   60000.0    -52.092646    215.735221   \n",
       "RICH_DLLbeElectron               60000.0    -51.157666    215.516177   \n",
       "HcalE                            60000.0   2903.586469   7781.605352   \n",
       "MuonFlag                         60000.0      0.165800      0.371904   \n",
       "FlagMuon                         60000.0      0.820900      0.383439   \n",
       "PrsE                             60000.0   -135.011308    363.647524   \n",
       "RICH_DLLbeMuon                   60000.0    -49.380463    215.184459   \n",
       "RICH_DLLbeProton                 60000.0    -52.402593    215.669601   \n",
       "\n",
       "                                           min          25%           50%  \\\n",
       "TrackP                             1209.110000  4149.994995  8.082305e+03   \n",
       "TrackNDoFSubdetector2                 1.000000    13.000000  1.600000e+01   \n",
       "BremDLLbeElectron                  -999.000000    -0.638962 -5.423956e-01   \n",
       "MuonLooseFlag                         0.000000     0.000000  0.000000e+00   \n",
       "FlagSpd                               0.000000     1.000000  1.000000e+00   \n",
       "SpdE                               -999.000000     0.000000  3.200000e+00   \n",
       "EcalDLLbeElectron                  -999.000000    -3.000643 -2.312398e+00   \n",
       "DLLmuon                            -999.000000    -5.719371 -1.979914e+00   \n",
       "RICHpFlagElectron                     0.000000     1.000000  1.000000e+00   \n",
       "EcalDLLbeMuon                      -999.000000    -3.367627 -1.956076e+00   \n",
       "TrackQualitySubdetector2              0.057001    10.654799  1.521950e+01   \n",
       "FlagPrs                               0.000000     1.000000  1.000000e+00   \n",
       "DLLelectron                        -999.000000    -7.044365 -4.377571e+00   \n",
       "DLLkaon                            -999.000000   -10.509772  3.324473e-06   \n",
       "EcalE                              -999.000000    -0.000003  6.671250e+02   \n",
       "TrackQualityPerNDoF                   0.143580     0.885437  1.109205e+00   \n",
       "DLLproton                          -999.000000   -11.868855  2.092053e-06   \n",
       "PrsDLLbeElectron                   -999.000000    -3.062683 -2.730655e+00   \n",
       "FlagRICH1                             0.000000     1.000000  1.000000e+00   \n",
       "MuonLLbeBCK                        -999.000000  -999.000000 -9.990000e+02   \n",
       "FlagHcal                              0.000000     1.000000  1.000000e+00   \n",
       "EcalShowerLongitudinalParameter -304661.031265  -999.000000 -2.964784e+02   \n",
       "Calo2dFitQuality                   -999.000000     0.092701  7.973508e-01   \n",
       "TrackPt                               1.447011   266.671757  5.442110e+02   \n",
       "TrackDistanceToZ                      0.000003     0.282049  5.145248e-01   \n",
       "RICHpFlagPion                         0.000000     1.000000  1.000000e+00   \n",
       "HcalDLLbeElectron                  -999.000000    -1.926179 -1.125039e+00   \n",
       "Calo3dFitQuality                   -999.000000  -999.000000  1.297538e+02   \n",
       "FlagEcal                              0.000000     1.000000  1.000000e+00   \n",
       "MuonLLbeMuon                       -999.000000  -999.000000 -9.990000e+02   \n",
       "TrackNDoFSubdetector1                 1.000000     4.000000  6.000000e+00   \n",
       "RICHpFlagProton                       0.000000     0.000000  0.000000e+00   \n",
       "RICHpFlagKaon                         0.000000     0.000000  0.000000e+00   \n",
       "GhostProbability                      0.001501     0.003861  9.671491e-03   \n",
       "TrackQualitySubdetector1              0.000230     3.059388  5.801416e+00   \n",
       "RICH_DLLbeBCK                      -999.000000   -16.015194 -2.048819e-06   \n",
       "FlagRICH2                             0.000000     0.000000  1.000000e+00   \n",
       "FlagBrem                              0.000000     1.000000  1.000000e+00   \n",
       "HcalDLLbeMuon                      -999.000000    -3.027635 -1.792457e+00   \n",
       "TrackNDoF                             8.000000    26.000000  3.000000e+01   \n",
       "RICHpFlagMuon                         0.000000     1.000000  1.000000e+00   \n",
       "RICH_DLLbeKaon                     -999.000000   -14.563115 -5.431636e-07   \n",
       "RICH_DLLbeElectron                 -999.000000   -13.080626 -2.325305e+00   \n",
       "HcalE                              -999.000000    -0.000015  5.634407e+02   \n",
       "MuonFlag                              0.000000     0.000000  0.000000e+00   \n",
       "FlagMuon                              0.000000     1.000000  1.000000e+00   \n",
       "PrsE                               -999.000000     0.000009  2.468448e+00   \n",
       "RICH_DLLbeMuon                     -999.000000    -4.510306 -4.713872e-01   \n",
       "RICH_DLLbeProton                   -999.000000   -16.140881 -2.452546e-06   \n",
       "\n",
       "                                          75%           max  \n",
       "TrackP                           17513.435045  2.427606e+06  \n",
       "TrackNDoFSubdetector2               18.000000  2.700000e+01  \n",
       "BremDLLbeElectron                   -0.068678  4.791513e+00  \n",
       "MuonLooseFlag                        0.000000  1.000000e+00  \n",
       "FlagSpd                              1.000000  1.000000e+00  \n",
       "SpdE                                 3.200000  3.200000e+00  \n",
       "EcalDLLbeElectron                    0.591859  4.341276e+00  \n",
       "DLLmuon                              1.671562  1.450883e+01  \n",
       "RICHpFlagElectron                    1.000000  1.000000e+00  \n",
       "EcalDLLbeMuon                        0.397512  2.153012e+00  \n",
       "TrackQualitySubdetector2            20.384970  1.048634e+02  \n",
       "FlagPrs                              1.000000  1.000000e+00  \n",
       "DLLelectron                          0.004246  1.694693e+01  \n",
       "DLLkaon                              8.490048  1.263247e+02  \n",
       "EcalE                             3013.837099  2.288119e+05  \n",
       "TrackQualityPerNDoF                  1.449416  3.999409e+00  \n",
       "DLLproton                            8.901348  1.261731e+02  \n",
       "PrsDLLbeElectron                    -1.333544  3.463159e+00  \n",
       "FlagRICH1                            1.000000  1.000000e+00  \n",
       "MuonLLbeBCK                       -999.000000  1.388956e-02  \n",
       "FlagHcal                             1.000000  1.000000e+00  \n",
       "EcalShowerLongitudinalParameter    156.520021  1.161838e+05  \n",
       "Calo2dFitQuality                     4.337247  9.984028e+02  \n",
       "TrackPt                           1103.227577  3.231642e+05  \n",
       "TrackDistanceToZ                     0.693008  3.809808e+01  \n",
       "RICHpFlagPion                        1.000000  1.000000e+00  \n",
       "HcalDLLbeElectron                   -0.117394  2.486400e+00  \n",
       "Calo3dFitQuality                  1639.901253  9.999831e+03  \n",
       "FlagEcal                             1.000000  1.000000e+00  \n",
       "MuonLLbeMuon                      -999.000000  3.193627e-05  \n",
       "TrackNDoFSubdetector1                8.000000  2.000000e+01  \n",
       "RICHpFlagProton                      0.000000  1.000000e+00  \n",
       "RICHpFlagKaon                        1.000000  1.000000e+00  \n",
       "GhostProbability                     0.054494  3.999745e-01  \n",
       "TrackQualitySubdetector1             9.434483  7.422336e+01  \n",
       "RICH_DLLbeBCK                        8.750270  6.838960e+01  \n",
       "FlagRICH2                            1.000000  1.000000e+00  \n",
       "FlagBrem                             1.000000  1.000000e+00  \n",
       "HcalDLLbeMuon                        0.152087  2.873414e+00  \n",
       "TrackNDoF                           34.000000  5.000000e+01  \n",
       "RICHpFlagMuon                        1.000000  1.000000e+00  \n",
       "RICH_DLLbeKaon                       8.472179  1.211629e+02  \n",
       "RICH_DLLbeElectron                   1.720236  1.647944e+02  \n",
       "HcalE                             3044.185053  4.258875e+05  \n",
       "MuonFlag                             0.000000  1.000000e+00  \n",
       "FlagMuon                             1.000000  1.000000e+00  \n",
       "PrsE                                 8.502419  2.805800e+02  \n",
       "RICH_DLLbeMuon                       1.296422  1.371855e+02  \n",
       "RICH_DLLbeProton                     8.963707  1.337011e+02  "
      ]
     },
     "execution_count": 6,
     "metadata": {},
     "output_type": "execute_result"
    }
   ],
   "source": [
    "df.describe().transpose()"
   ]
  },
  {
   "cell_type": "code",
   "execution_count": 7,
   "metadata": {},
   "outputs": [
    {
     "data": {
      "text/plain": [
       "TrackP                             0\n",
       "TrackNDoFSubdetector2              0\n",
       "BremDLLbeElectron                  0\n",
       "MuonLooseFlag                      0\n",
       "FlagSpd                            0\n",
       "SpdE                               0\n",
       "EcalDLLbeElectron                  0\n",
       "DLLmuon                            0\n",
       "RICHpFlagElectron                  0\n",
       "EcalDLLbeMuon                      0\n",
       "TrackQualitySubdetector2           0\n",
       "FlagPrs                            0\n",
       "DLLelectron                        0\n",
       "DLLkaon                            0\n",
       "EcalE                              0\n",
       "TrackQualityPerNDoF                0\n",
       "DLLproton                          0\n",
       "PrsDLLbeElectron                   0\n",
       "FlagRICH1                          0\n",
       "MuonLLbeBCK                        0\n",
       "FlagHcal                           0\n",
       "EcalShowerLongitudinalParameter    0\n",
       "Calo2dFitQuality                   0\n",
       "TrackPt                            0\n",
       "TrackDistanceToZ                   0\n",
       "RICHpFlagPion                      0\n",
       "HcalDLLbeElectron                  0\n",
       "Calo3dFitQuality                   0\n",
       "FlagEcal                           0\n",
       "MuonLLbeMuon                       0\n",
       "TrackNDoFSubdetector1              0\n",
       "RICHpFlagProton                    0\n",
       "RICHpFlagKaon                      0\n",
       "GhostProbability                   0\n",
       "TrackQualitySubdetector1           0\n",
       "Label                              0\n",
       "RICH_DLLbeBCK                      0\n",
       "FlagRICH2                          0\n",
       "FlagBrem                           0\n",
       "HcalDLLbeMuon                      0\n",
       "TrackNDoF                          0\n",
       "RICHpFlagMuon                      0\n",
       "RICH_DLLbeKaon                     0\n",
       "RICH_DLLbeElectron                 0\n",
       "HcalE                              0\n",
       "MuonFlag                           0\n",
       "FlagMuon                           0\n",
       "PrsE                               0\n",
       "RICH_DLLbeMuon                     0\n",
       "RICH_DLLbeProton                   0\n",
       "dtype: int64"
      ]
     },
     "execution_count": 7,
     "metadata": {},
     "output_type": "execute_result"
    }
   ],
   "source": [
    "df.isnull().sum()"
   ]
  },
  {
   "cell_type": "code",
   "execution_count": 8,
   "metadata": {},
   "outputs": [
    {
     "data": {
      "text/plain": [
       "(60000, 50)"
      ]
     },
     "execution_count": 8,
     "metadata": {},
     "output_type": "execute_result"
    }
   ],
   "source": [
    "df.shape"
   ]
  },
  {
   "cell_type": "markdown",
   "metadata": {},
   "source": [
    "## Initial Model\n",
    "Creating a pipeline."
   ]
  },
  {
   "cell_type": "code",
   "execution_count": 9,
   "metadata": {},
   "outputs": [],
   "source": [
    "from sklearn.model_selection import train_test_split"
   ]
  },
  {
   "cell_type": "code",
   "execution_count": 10,
   "metadata": {},
   "outputs": [],
   "source": [
    "y = df['Label']\n",
    "X = df.drop('Label', axis = 1)"
   ]
  },
  {
   "cell_type": "code",
   "execution_count": 11,
   "metadata": {},
   "outputs": [],
   "source": [
    "X_train, X_test, y_train, y_test = train_test_split(X, y, test_size = 0.2, random_state=123)"
   ]
  },
  {
   "cell_type": "code",
   "execution_count": 12,
   "metadata": {},
   "outputs": [],
   "source": [
    "from sklearn.pipeline import make_pipeline"
   ]
  },
  {
   "cell_type": "code",
   "execution_count": 13,
   "metadata": {},
   "outputs": [],
   "source": [
    "from sklearn.preprocessing import StandardScaler\n",
    "from sklearn.linear_model import LogisticRegression"
   ]
  },
  {
   "cell_type": "code",
   "execution_count": 14,
   "metadata": {},
   "outputs": [],
   "source": [
    "initial_model = make_pipeline(\n",
    "    StandardScaler(),\n",
    "    LogisticRegression(penalty='none')\n",
    ")"
   ]
  },
  {
   "cell_type": "code",
   "execution_count": 15,
   "metadata": {},
   "outputs": [
    {
     "name": "stderr",
     "output_type": "stream",
     "text": [
      "D:\\Programs\\Software\\Anaconda\\lib\\site-packages\\sklearn\\linear_model\\_logistic.py:762: ConvergenceWarning: lbfgs failed to converge (status=1):\n",
      "STOP: TOTAL NO. of ITERATIONS REACHED LIMIT.\n",
      "\n",
      "Increase the number of iterations (max_iter) or scale the data as shown in:\n",
      "    https://scikit-learn.org/stable/modules/preprocessing.html\n",
      "Please also refer to the documentation for alternative solver options:\n",
      "    https://scikit-learn.org/stable/modules/linear_model.html#logistic-regression\n",
      "  n_iter_i = _check_optimize_result(\n"
     ]
    },
    {
     "data": {
      "text/plain": [
       "Pipeline(steps=[('standardscaler', StandardScaler()),\n",
       "                ('logisticregression', LogisticRegression(penalty='none'))])"
      ]
     },
     "execution_count": 15,
     "metadata": {},
     "output_type": "execute_result"
    }
   ],
   "source": [
    "initial_model.fit(X_train, y_train)"
   ]
  },
  {
   "cell_type": "markdown",
   "metadata": {},
   "source": [
    "### Model Performance"
   ]
  },
  {
   "cell_type": "code",
   "execution_count": 16,
   "metadata": {},
   "outputs": [
    {
     "name": "stdout",
     "output_type": "stream",
     "text": [
      "              precision    recall  f1-score   support\n",
      "\n",
      "    Electron       0.82      0.87      0.84      1982\n",
      "       Ghost       0.73      0.70      0.71      1986\n",
      "        Kaon       0.60      0.57      0.58      2066\n",
      "        Muon       0.86      0.85      0.86      1971\n",
      "        Pion       0.63      0.72      0.68      1999\n",
      "      Proton       0.62      0.56      0.59      1996\n",
      "\n",
      "    accuracy                           0.71     12000\n",
      "   macro avg       0.71      0.71      0.71     12000\n",
      "weighted avg       0.71      0.71      0.71     12000\n",
      "\n"
     ]
    }
   ],
   "source": [
    "from sklearn.metrics import classification_report\n",
    "print(classification_report(y_test, initial_model.predict(X_test)))"
   ]
  },
  {
   "cell_type": "code",
   "execution_count": 17,
   "metadata": {},
   "outputs": [],
   "source": [
    "def performance(model):\n",
    "    train_accuracy = np.round((model.predict(X_train) == y_train).mean()*100, 2)\n",
    "    test_accuracy = np.round((model.predict(X_test) == y_test).mean()*100, 2)\n",
    "    \n",
    "    print(f'Train accuracy: {train_accuracy} %')\n",
    "    print(f'Test accuracy: {test_accuracy} %')"
   ]
  },
  {
   "cell_type": "code",
   "execution_count": 18,
   "metadata": {},
   "outputs": [
    {
     "name": "stdout",
     "output_type": "stream",
     "text": [
      "Train accuracy: 71.73 %\n",
      "Test accuracy: 71.0 %\n"
     ]
    }
   ],
   "source": [
    "performance(initial_model)"
   ]
  },
  {
   "cell_type": "markdown",
   "metadata": {},
   "source": [
    "### Distribution\n",
    "Let's visualize delta log-likehood for a particle candidate to be a background using information from RICH detectors."
   ]
  },
  {
   "cell_type": "code",
   "execution_count": 19,
   "metadata": {},
   "outputs": [],
   "source": [
    "plt.rcParams['figure.figsize'] = [16, 8]"
   ]
  },
  {
   "cell_type": "code",
   "execution_count": 20,
   "metadata": {},
   "outputs": [],
   "source": [
    "columns = [\n",
    "    \"RICH_DLLbeElectron\",\n",
    "    \"RICH_DLLbeProton\",\n",
    "    \"RICH_DLLbeKaon\",\n",
    "    \"RICH_DLLbeMuon\",\n",
    "    \"RICH_DLLbeBCK\"\n",
    "]"
   ]
  },
  {
   "cell_type": "code",
   "execution_count": 21,
   "metadata": {},
   "outputs": [],
   "source": [
    "def distribution(feature, target, bins=10):\n",
    "    particles = np.unique(target)\n",
    "    bins = np.linspace(feature.min(), feature.max(), bins + 1)\n",
    "    for particle in particles:\n",
    "        selection = (target == particle)\n",
    "        plt.hist(feature[selection], bins=bins, label=particle, alpha=0.5)\n",
    "    plt.legend()"
   ]
  },
  {
   "cell_type": "code",
   "execution_count": 22,
   "metadata": {
    "scrolled": false
   },
   "outputs": [
    {
     "data": {
      "image/png": "[encoded data removed]",
      "text/plain": [
       "<Figure size 1152x576 with 1 Axes>"
      ]
     },
     "metadata": {
      "needs_background": "light"
     },
     "output_type": "display_data"
    },
    {
     "data": {
      "image/png": "[encoded data removed]",
      "text/plain": [
       "<Figure size 1152x576 with 1 Axes>"
      ]
     },
     "metadata": {
      "needs_background": "light"
     },
     "output_type": "display_data"
    },
    {
     "data": {
      "image/png": "[encoded data removed]",
      "text/plain": [
       "<Figure size 1152x576 with 1 Axes>"
      ]
     },
     "metadata": {
      "needs_background": "light"
     },
     "output_type": "display_data"
    },
    {
     "data": {
      "image/png": "[encoded data removed]",
      "text/plain": [
       "<Figure size 1152x576 with 1 Axes>"
      ]
     },
     "metadata": {
      "needs_background": "light"
     },
     "output_type": "display_data"
    },
    {
     "data": {
      "image/png": "[encoded data removed]",
      "text/plain": [
       "<Figure size 1152x576 with 1 Axes>"
      ]
     },
     "metadata": {
      "needs_background": "light"
     },
     "output_type": "display_data"
    }
   ],
   "source": [
    "for column in columns:\n",
    "    plt.figure()\n",
    "    distribution(X_train[column], y_train, 100)\n",
    "    plt.title(column)"
   ]
  },
  {
   "cell_type": "markdown",
   "metadata": {},
   "source": [
    "As it can be seen, around -1000 there is a spike. It is the exit code. It would be beneficial to remove it to improve the performance of the data model."
   ]
  },
  {
   "cell_type": "code",
   "execution_count": 23,
   "metadata": {},
   "outputs": [
    {
     "data": {
      "text/plain": [
       "-999.0"
      ]
     },
     "execution_count": 23,
     "metadata": {},
     "output_type": "execute_result"
    }
   ],
   "source": [
    "df['RICH_DLLbeKaon'].min()"
   ]
  },
  {
   "cell_type": "code",
   "execution_count": 24,
   "metadata": {},
   "outputs": [],
   "source": [
    "from sklearn.base import TransformerMixin"
   ]
  },
  {
   "cell_type": "code",
   "execution_count": 25,
   "metadata": {},
   "outputs": [],
   "source": [
    "class FeatureExpansion(TransformerMixin):\n",
    "    def __init__(self, dll_threshold=-998):\n",
    "        super().__init__()\n",
    "\n",
    "        self.features = columns\n",
    "        self.dll_threshold = dll_threshold\n",
    "\n",
    "    def fit(self, X, y):\n",
    "        self.mean_vals = [\n",
    "            X[f][X[f] >= self.dll_threshold].mean()\n",
    "            for f in self.features\n",
    "        ]\n",
    "        return self\n",
    "\n",
    "    def transform(self, X):\n",
    "        X = X.copy()\n",
    "        \n",
    "        for f, mean in zip(self.features, self.mean_vals):\n",
    "            X[f][X[f] < self.dll_threshold] = mean\n",
    "        \n",
    "        return X"
   ]
  },
  {
   "cell_type": "code",
   "execution_count": 26,
   "metadata": {
    "scrolled": false
   },
   "outputs": [
    {
     "data": {
      "image/png": "[encoded data removed]",
      "text/plain": [
       "<Figure size 1152x576 with 1 Axes>"
      ]
     },
     "metadata": {
      "needs_background": "light"
     },
     "output_type": "display_data"
    },
    {
     "data": {
      "image/png": "[encoded data removed]",
      "text/plain": [
       "<Figure size 1152x576 with 1 Axes>"
      ]
     },
     "metadata": {
      "needs_background": "light"
     },
     "output_type": "display_data"
    },
    {
     "data": {
      "image/png": "[encoded data removed]",
      "text/plain": [
       "<Figure size 1152x576 with 1 Axes>"
      ]
     },
     "metadata": {
      "needs_background": "light"
     },
     "output_type": "display_data"
    },
    {
     "data": {
      "image/png": "[encoded data removed]",
      "text/plain": [
       "<Figure size 1152x576 with 1 Axes>"
      ]
     },
     "metadata": {
      "needs_background": "light"
     },
     "output_type": "display_data"
    },
    {
     "data": {
      "image/png": "[encoded data removed]",
      "text/plain": [
       "<Figure size 1152x576 with 1 Axes>"
      ]
     },
     "metadata": {
      "needs_background": "light"
     },
     "output_type": "display_data"
    }
   ],
   "source": [
    "for column in columns:\n",
    "    plt.figure()\n",
    "    distribution(FeatureExpansion().fit_transform(X_train, y_train)[column], y_train, 100)\n",
    "    plt.title(column)"
   ]
  },
  {
   "cell_type": "markdown",
   "metadata": {},
   "source": [
    "### Improved Model\n",
    "Let's build a model without the exit code."
   ]
  },
  {
   "cell_type": "code",
   "execution_count": 27,
   "metadata": {},
   "outputs": [
    {
     "name": "stderr",
     "output_type": "stream",
     "text": [
      "D:\\Programs\\Software\\Anaconda\\lib\\site-packages\\sklearn\\linear_model\\_logistic.py:762: ConvergenceWarning: lbfgs failed to converge (status=1):\n",
      "STOP: TOTAL NO. of ITERATIONS REACHED LIMIT.\n",
      "\n",
      "Increase the number of iterations (max_iter) or scale the data as shown in:\n",
      "    https://scikit-learn.org/stable/modules/preprocessing.html\n",
      "Please also refer to the documentation for alternative solver options:\n",
      "    https://scikit-learn.org/stable/modules/linear_model.html#logistic-regression\n",
      "  n_iter_i = _check_optimize_result(\n"
     ]
    },
    {
     "data": {
      "text/plain": [
       "Pipeline(steps=[('featureexpansion',\n",
       "                 <__main__.FeatureExpansion object at 0x000001C4CE0A5A90>),\n",
       "                ('standardscaler', StandardScaler()),\n",
       "                ('logisticregression', LogisticRegression(penalty='none'))])"
      ]
     },
     "execution_count": 27,
     "metadata": {},
     "output_type": "execute_result"
    }
   ],
   "source": [
    "improved_model = make_pipeline(\n",
    "    FeatureExpansion(),\n",
    "    StandardScaler(),\n",
    "    LogisticRegression(penalty='none')\n",
    ")\n",
    "improved_model.fit(X_train, y_train)"
   ]
  },
  {
   "cell_type": "code",
   "execution_count": 28,
   "metadata": {},
   "outputs": [
    {
     "name": "stdout",
     "output_type": "stream",
     "text": [
      "              precision    recall  f1-score   support\n",
      "\n",
      "    Electron       0.82      0.89      0.85      1982\n",
      "       Ghost       0.72      0.69      0.71      1986\n",
      "        Kaon       0.61      0.57      0.59      2066\n",
      "        Muon       0.86      0.87      0.87      1971\n",
      "        Pion       0.67      0.74      0.70      1999\n",
      "      Proton       0.62      0.55      0.59      1996\n",
      "\n",
      "    accuracy                           0.72     12000\n",
      "   macro avg       0.72      0.72      0.72     12000\n",
      "weighted avg       0.72      0.72      0.72     12000\n",
      "\n"
     ]
    }
   ],
   "source": [
    "from sklearn.metrics import classification_report\n",
    "print(classification_report(y_test, improved_model.predict(X_test)))"
   ]
  },
  {
   "cell_type": "code",
   "execution_count": 29,
   "metadata": {},
   "outputs": [
    {
     "name": "stdout",
     "output_type": "stream",
     "text": [
      "Train accuracy: 72.76 %\n",
      "Test accuracy: 71.88 %\n"
     ]
    }
   ],
   "source": [
    "performance(improved_model)"
   ]
  },
  {
   "cell_type": "code",
   "execution_count": 30,
   "metadata": {},
   "outputs": [],
   "source": [
    "def performance_difference(model2, model1):\n",
    "    train_accuracy2 = (model2.predict(X_train) == y_train).mean()*100\n",
    "    test_accuracy2 = (model2.predict(X_test) == y_test).mean()*100\n",
    "    \n",
    "    train_accuracy1 = (model1.predict(X_train) == y_train).mean()*100\n",
    "    test_accuracy1 = (model1.predict(X_test) == y_test).mean()*100\n",
    "    \n",
    "    train_accuracy_improvement = np.round(train_accuracy2 - train_accuracy1, 2)\n",
    "    test_accuracy_improvement = np.round(test_accuracy2 - test_accuracy1, 2)\n",
    "    \n",
    "    print(f'Train accuracy improvement: {train_accuracy_improvement} %')\n",
    "    print(f'Test accuracy improvement: {test_accuracy_improvement} %')"
   ]
  },
  {
   "cell_type": "code",
   "execution_count": 31,
   "metadata": {},
   "outputs": [
    {
     "name": "stdout",
     "output_type": "stream",
     "text": [
      "Train accuracy improvement: 1.03 %\n",
      "Test accuracy improvement: 0.88 %\n"
     ]
    }
   ],
   "source": [
    "performance_difference(improved_model, initial_model)"
   ]
  },
  {
   "cell_type": "markdown",
   "metadata": {},
   "source": [
    "The improvement is about 1 %. To increasing even more, we could delete the exit code from the rest of the features."
   ]
  }
 ],
 "metadata": {
  "kernelspec": {
   "display_name": "Python 3",
   "language": "python",
   "name": "python3"
  },
  "language_info": {
   "codemirror_mode": {
    "name": "ipython",
    "version": 3
   },
   "file_extension": ".py",
   "mimetype": "text/x-python",
   "name": "python",
   "nbconvert_exporter": "python",
   "pygments_lexer": "ipython3",
   "version": "3.8.5"
  }
 },
 "nbformat": 4,
 "nbformat_minor": 5
}
