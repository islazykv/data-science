{
 "cells": [
  {
   "cell_type": "markdown",
   "id": "fa7aa4d1",
   "metadata": {},
   "source": [
    "# Predicting Loans in Lending Club\n",
    "The dataset was downloaded from kaggle ([link](https://www.kaggle.com/wordsforthewise/lending-club)). The data used in this project was modified a little bit in order to play with missing values.\n",
    "\n",
    "The goal of this project is to create a model using Tensorflow 2.0 with Keras that predicts if a person is likely to return taken loan based on certain features.\n",
    "\n",
    "#### List of The Features:\n",
    "* loan_amnt - The listed amount of the loan applied for by the borrower. If at some point in time, the credit department reduces the loan amount, then it will be reflected in this value.\n",
    "* term - The number of payments on the loan. Values are in months and can be either 36 or 60.\n",
    "* int_rate - Interest Rate on the loan\n",
    "* installment - The monthly payment owed by the borrower if the loan originates.\n",
    "* grade - LC assigned loan grade\n",
    "* sub_grade - LC assigned loan subgrade\n",
    "* emp_title - The job title supplied by the Borrower when applying for the loan.*\n",
    "* emp_length - Employment length in years. Possible values are between 0 and 10 where 0 means less than one year and 10 means ten or more years. \n",
    "* home_ownership - The home ownership status provided by the borrower during registrationÂ or obtained from the credit report.Â Our values are: RENT, OWN, MORTGAGE, OTHER\n",
    "* annual_inc - The self-reported annual income provided by the borrower during registration.\n",
    "* verification_status - Indicates if income was verified by LC, not verified, or if the income source was verified\n",
    "* issue_d - The month which the loan was funded\n",
    "* loan_status\tCurrent status of the loan\n",
    "* purpose - A category provided by the borrower for the loan request. \n",
    "* title - The loan title provided by the borrower\n",
    "* zip_code - The first 3 numbers of the zip code provided by the borrower in the loan application.\n",
    "* addr_state - The state provided by the borrower in the loan application\n",
    "* dti - A ratio calculated using the borrowerâ€™s total monthly debt payments on the total debt obligations, excluding mortgage and the requested LC loan, divided by the borrowerâ€™s self-reported monthly income.\n",
    "* earliest_cr_line - The month the borrower's earliest reported credit line was opened\n",
    "* open_acc - The number of open credit lines in the borrower's credit file.\n",
    "* pub_rec - Number of derogatory public records\n",
    "* revol_bal - Total credit revolving balance\n",
    "* revol_util - Revolving line utilization rate, or the amount of credit the borrower is using relative to all available revolving credit.\n",
    "* total_acc - The total number of credit lines currently in the borrower's credit file\n",
    "* initial_list_status - The initial listing status of the loan. Possible values are â€“ W, F\n",
    "* application_type - Indicates whether the loan is an individual application or a joint application with two co-borrowers\n",
    "* mort_acc - Number of mortgage accounts.\n",
    "* pub_rec_bankruptcies - Number of public record bankruptcies"
   ]
  },
  {
   "cell_type": "markdown",
   "id": "733059bc",
   "metadata": {},
   "source": [
    "### Libraries\n",
    "Importing essential libraries: numpy, pandas, matplotlib and seaborn."
   ]
  },
  {
   "cell_type": "code",
   "execution_count": 2,
   "id": "9f4a7042",
   "metadata": {},
   "outputs": [],
   "source": [
    "import numpy as np\n",
    "import pandas as pd\n",
    "\n",
    "import matplotlib.pyplot as plt\n",
    "import seaborn as sns\n",
    "\n",
    "%matplotlib inline"
   ]
  },
  {
   "cell_type": "markdown",
   "id": "7a372bcd",
   "metadata": {},
   "source": [
    "### Preview of The Data\n",
    "Checking the consistency of the dataset."
   ]
  },
  {
   "cell_type": "code",
   "execution_count": null,
   "id": "7d1fa4c4",
   "metadata": {},
   "outputs": [],
   "source": []
  }
 ],
 "metadata": {
  "kernelspec": {
   "display_name": "Python 3",
   "language": "python",
   "name": "python3"
  },
  "language_info": {
   "codemirror_mode": {
    "name": "ipython",
    "version": 3
   },
   "file_extension": ".py",
   "mimetype": "text/x-python",
   "name": "python",
   "nbconvert_exporter": "python",
   "pygments_lexer": "ipython3",
   "version": "3.8.8"
  }
 },
 "nbformat": 4,
 "nbformat_minor": 5
}
